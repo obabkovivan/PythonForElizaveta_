{
 "cells": [
  {
   "cell_type": "code",
   "execution_count": null,
   "id": "a8b6cc16-30e4-4e61-a820-83d30221bc25",
   "metadata": {},
   "outputs": [],
   "source": [
    "https://docs.python.org/3/"
   ]
  },
  {
   "cell_type": "code",
   "execution_count": 1,
   "id": "0041a028-e128-40d6-ad9a-b208219c9467",
   "metadata": {},
   "outputs": [
    {
     "name": "stdout",
     "output_type": "stream",
     "text": [
      "Hello, World\n"
     ]
    }
   ],
   "source": [
    "print('Hello, World')"
   ]
  },
  {
   "cell_type": "code",
   "execution_count": 2,
   "id": "29ed6143-9a65-407f-b973-c57b28858caa",
   "metadata": {},
   "outputs": [
    {
     "name": "stdout",
     "output_type": "stream",
     "text": [
      "Hello, World\n"
     ]
    }
   ],
   "source": [
    "print(\"Hello, World\")"
   ]
  },
  {
   "cell_type": "code",
   "execution_count": null,
   "id": "1f6421e7-57b5-4a73-84d2-14ec6facfd18",
   "metadata": {},
   "outputs": [],
   "source": [
    "with open('example.txt', 'r') as file:\n",
    "    data = file.read()\n",
    "    print(data)"
   ]
  },
  {
   "cell_type": "code",
   "execution_count": null,
   "id": "7df44908-6ff8-4602-8762-43c969cce8b6",
   "metadata": {},
   "outputs": [],
   "source": [
    "pyenv"
   ]
  },
  {
   "cell_type": "code",
   "execution_count": 11,
   "id": "0fd85f39-bb1a-48a6-bdb0-5b583d0a86c2",
   "metadata": {},
   "outputs": [
    {
     "name": "stdout",
     "output_type": "stream",
     "text": [
      "x больше или равно 7\n",
      "Hi\n"
     ]
    }
   ],
   "source": [
    "x = 10\n",
    "if x < 5:\n",
    "    print('x меньше 5')\n",
    "elif x < 7:\n",
    "    print('x меньше 7')\n",
    "else:\n",
    "    print('x больше или равно 7')\n",
    "print('Hi')"
   ]
  },
  {
   "cell_type": "code",
   "execution_count": 12,
   "id": "37c1a80a-b6f2-4734-aeec-93cdd74490e1",
   "metadata": {},
   "outputs": [
    {
     "name": "stdout",
     "output_type": "stream",
     "text": [
      "1\n",
      "2\n",
      "3\n"
     ]
    }
   ],
   "source": [
    "for i in [1, 2, 3]:\n",
    "    print(i)"
   ]
  },
  {
   "cell_type": "code",
   "execution_count": 14,
   "id": "bdd95109-bdfe-4bfc-b506-f614cf5ee735",
   "metadata": {},
   "outputs": [
    {
     "name": "stdout",
     "output_type": "stream",
     "text": [
      "10\n",
      "9\n",
      "8\n",
      "7\n",
      "6\n"
     ]
    }
   ],
   "source": [
    "x = 10\n",
    "while x > 5:\n",
    "    print(x)\n",
    "    # x = x - 1\n",
    "    x -= 1\n",
    "    "
   ]
  },
  {
   "cell_type": "code",
   "execution_count": 16,
   "id": "d9122e90-58fb-4ee9-a2ad-8a44123a7082",
   "metadata": {},
   "outputs": [
    {
     "name": "stdout",
     "output_type": "stream",
     "text": [
      "<class 'int'>\n",
      "<class 'str'>\n"
     ]
    }
   ],
   "source": [
    "a = 10  # int\n",
    "b = 10.4  # float\n",
    "c = 'Hi, world!'  # str\n",
    "d = [1, 2, 3, 4]  # list\n",
    "print(type(a))\n",
    "a = '123'\n",
    "print(type(a))"
   ]
  },
  {
   "cell_type": "code",
   "execution_count": 17,
   "id": "ff59baf9-1284-4e27-bdce-6f3f679a24f9",
   "metadata": {},
   "outputs": [
    {
     "data": {
      "text/plain": [
       "4"
      ]
     },
     "execution_count": 17,
     "metadata": {},
     "output_type": "execute_result"
    }
   ],
   "source": [
    "2 + 2"
   ]
  },
  {
   "cell_type": "code",
   "execution_count": 20,
   "id": "fee775b9-f4c5-4e3e-967a-08ec7f4dc8ac",
   "metadata": {},
   "outputs": [
    {
     "name": "stdout",
     "output_type": "stream",
     "text": [
      "На ноль делить нельзя\n",
      "123\n"
     ]
    }
   ],
   "source": [
    "try:\n",
    "    x = 1 / 0\n",
    "except ZeroDivisionError:\n",
    "    print('На ноль делить нельзя')\n",
    "print('123')"
   ]
  },
  {
   "cell_type": "code",
   "execution_count": 26,
   "id": "12faa67b-4bc4-4cb7-be00-ce7d0c882692",
   "metadata": {},
   "outputs": [
    {
     "name": "stdin",
     "output_type": "stream",
     "text": [
      "Your name:  \n"
     ]
    },
    {
     "name": "stdout",
     "output_type": "stream",
     "text": [
      "Hi,\n"
     ]
    }
   ],
   "source": [
    "a = input('Your name: ')\n",
    "print(\"Hi,\" + a)"
   ]
  },
  {
   "cell_type": "code",
   "execution_count": 32,
   "id": "ba3cf9b8-b65f-4975-8ab3-437b198acc96",
   "metadata": {},
   "outputs": [
    {
     "name": "stdout",
     "output_type": "stream",
     "text": [
      "{'hi': 'привет', 1: 'one', (1, 2, 3, 4): '123'}\n"
     ]
    }
   ],
   "source": [
    "a = 10  # int immutable\n",
    "b = 10.4  # float immutable\n",
    "c = 'Hi, world!'  # str immutable\n",
    "d = [1, 2, 3, 4]  # list\n",
    "x = True  # False bool  immutable\n",
    "t = (1, 2, 3, 4)  # tuple  immutable\n",
    "s = {'red', 'blue'}  # set\n",
    "tp = ([1, 2], 1, 2, )\n",
    "# q = {'hi': 'привет', 1: 'one', tp: '123'}  # error\n",
    "q = {'hi': 'привет', 1: 'one', t: '123'}  # ok\n",
    "print(q)"
   ]
  },
  {
   "cell_type": "code",
   "execution_count": 57,
   "id": "da8d803a-351e-45db-b581-7b58cbaf70ed",
   "metadata": {},
   "outputs": [
    {
     "name": "stdin",
     "output_type": "stream",
     "text": [
      "Введите первое число:  2312312\n",
      "Введите второе число:  123123\n",
      "Введите операцию +, -, /, *:  q231\n"
     ]
    },
    {
     "name": "stdout",
     "output_type": "stream",
     "text": [
      "Введена неверная операция\n"
     ]
    }
   ],
   "source": [
    "try:\n",
    "    num_1 = input('Введите первое число: ')\n",
    "    num_2 = int(input('Введите второе число: '))\n",
    "except ValueError:\n",
    "    print('Введите только число')\n",
    "# print(num_1 + num_2)  # конкатенация строк\n",
    "# num_1 = int(num_1)\n",
    "# num_2 = int(num_2)\n",
    "op = input('Введите операцию +, -, /, *: ')\n",
    "if op == '+' and num_1.isdigit():\n",
    "    print(int(num_1) + num_2)\n",
    "elif op == '-':\n",
    "    print(num_1 - num_2)\n",
    "elif op == '/':\n",
    "    try:\n",
    "        print(num_1 / num_2)\n",
    "    except ZeroDivisionError:\n",
    "        print('На ноль делить нельзя')\n",
    "elif op == '*':\n",
    "    print(num_1 * num_2)\n",
    "else:\n",
    "    print('Введена неверная операция')"
   ]
  },
  {
   "cell_type": "code",
   "execution_count": 53,
   "id": "217c7863-d0a4-45f3-9ae7-67e62b2c8fba",
   "metadata": {},
   "outputs": [
    {
     "name": "stdout",
     "output_type": "stream",
     "text": [
      "1.5\n",
      "1\n",
      "1\n"
     ]
    }
   ],
   "source": [
    "print(3 / 2)\n",
    "print(3 // 2)\n",
    "print(3 % 2)"
   ]
  },
  {
   "cell_type": "code",
   "execution_count": 59,
   "id": "836e6c99-09ba-43ac-960d-1976926e8438",
   "metadata": {},
   "outputs": [
    {
     "data": {
      "text/plain": [
       "True"
      ]
     },
     "execution_count": 59,
     "metadata": {},
     "output_type": "execute_result"
    }
   ],
   "source": [
    "a = '11231232132'\n",
    "a.isdigit()"
   ]
  }
 ],
 "metadata": {
  "kernelspec": {
   "display_name": "Python 3 (ipykernel)",
   "language": "python",
   "name": "python3"
  },
  "language_info": {
   "codemirror_mode": {
    "name": "ipython",
    "version": 3
   },
   "file_extension": ".py",
   "mimetype": "text/x-python",
   "name": "python",
   "nbconvert_exporter": "python",
   "pygments_lexer": "ipython3",
   "version": "3.11.9"
  }
 },
 "nbformat": 4,
 "nbformat_minor": 5
}
