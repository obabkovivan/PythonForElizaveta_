{
 "cells": [
  {
   "cell_type": "code",
   "execution_count": 8,
   "id": "2bc709e8-d37c-43a9-af19-776698e515dd",
   "metadata": {},
   "outputs": [
    {
     "name": "stdout",
     "output_type": "stream",
     "text": [
      "Бобик говорит: Гав-гав!\n",
      "3\n",
      "Объект Бобик удален\n"
     ]
    }
   ],
   "source": [
    "class Dog:\n",
    "    def __init__(self, name, age):  # конструктор\n",
    "        self.name = name\n",
    "        self.age = age\n",
    "    \n",
    "    def bark(self):\n",
    "        print(f'{self.name} говорит: Гав-гав!')\n",
    "\n",
    "    def __del__(self):\n",
    "        print(f'Объект {self.name} удален')\n",
    "\n",
    "dog1 = Dog('Бобик', 3)\n",
    "dog1.bark()\n",
    "print(dog1.age)\n",
    "del dog1"
   ]
  },
  {
   "cell_type": "code",
   "execution_count": 32,
   "id": "5f5328b2-8fd7-41c9-8b93-a6dae7dbdc64",
   "metadata": {},
   "outputs": [],
   "source": [
    "class Car:\n",
    "    wheels = 4 # атрибут класса\n",
    "    def __init__(self, brand, model, age):\n",
    "        self.brand = brand\n",
    "        self.model = model\n",
    "        self.age = age\n",
    "\n",
    "    def desc(self):\n",
    "        print(f'Это {self.brand} {self.model} с {Car.wheels} колесами и ей {self.age} лет')"
   ]
  },
  {
   "cell_type": "code",
   "execution_count": 33,
   "id": "bbca7a81-d192-49d9-ad51-0f67d7f38ca1",
   "metadata": {},
   "outputs": [],
   "source": [
    "car1 = Car('Toyta', 'Corolla', 15)\n",
    "car2 = Car('Lada', 'Largus', 10)"
   ]
  },
  {
   "cell_type": "code",
   "execution_count": 34,
   "id": "160e2fda-4444-42d7-87d4-942d89b3e3f1",
   "metadata": {},
   "outputs": [
    {
     "name": "stdout",
     "output_type": "stream",
     "text": [
      "Это Toyta Corolla с 4 колесами и ей 15 лет\n",
      "Это Lada Largus с 4 колесами и ей 10 лет\n",
      "\n",
      "Это Toyta Corolla с 5 колесами и ей 15 лет\n",
      "Это Lada Largus с 5 колесами и ей 10 лет\n",
      "\n",
      "Это Toyta Corolla с 5 колесами и ей 16 лет\n",
      "Это Lada Largus с 5 колесами и ей 10 лет\n"
     ]
    }
   ],
   "source": [
    "car1.desc()\n",
    "car2.desc()\n",
    "print()\n",
    "Car.wheels = 5\n",
    "car1.desc()\n",
    "car2.desc()\n",
    "print()\n",
    "car1.age = 16\n",
    "car1.desc()\n",
    "car2.desc()"
   ]
  },
  {
   "cell_type": "markdown",
   "id": "84c29304-ae52-44d2-ae30-3783cee141a2",
   "metadata": {},
   "source": [
    "### Наследование"
   ]
  },
  {
   "cell_type": "code",
   "execution_count": 39,
   "id": "f8bbbd04-fc00-4cc9-8afd-e41e1b13a3d1",
   "metadata": {},
   "outputs": [
    {
     "name": "stdout",
     "output_type": "stream",
     "text": [
      "Мурка издает звук\n",
      "Мурка говорит: Мяу!\n"
     ]
    }
   ],
   "source": [
    "class Animal:\n",
    "    def __init__(self, name):\n",
    "        self.name = name\n",
    "    def make_sound(self):\n",
    "        print(f'{self.name} издает звук')\n",
    "\n",
    "class Cat(Animal):\n",
    "    def make_sound(self):\n",
    "        super().make_sound()\n",
    "        print(f'{self.name} говорит: Мяу!')\n",
    "\n",
    "cat1 = Cat('Мурка')\n",
    "cat1.make_sound()"
   ]
  },
  {
   "cell_type": "markdown",
   "id": "e20022ce-276e-4f7f-aef6-daff5fe6010a",
   "metadata": {},
   "source": [
    "### Инкапсуляция"
   ]
  },
  {
   "cell_type": "code",
   "execution_count": 58,
   "id": "5077cd06-cca7-4dee-a297-1cd466774234",
   "metadata": {},
   "outputs": [
    {
     "name": "stdout",
     "output_type": "stream",
     "text": [
      "Иван\n",
      "мужчина\n",
      "25\n",
      "26\n"
     ]
    }
   ],
   "source": [
    "class Person:\n",
    "    def __init__(self, name: str, age: int, sex: str):\n",
    "        self.name = name\n",
    "        self.__age = age  # приватный\n",
    "        self._sex = sex  # защищен\n",
    "\n",
    "    def get_age(self) -> int:\n",
    "        return self.__age\n",
    "\n",
    "    def set_age(self, new_age):\n",
    "        if new_age > 0:\n",
    "            self.__age = new_age\n",
    "        else:\n",
    "            print('Возраст должен быть положительным')\n",
    "\n",
    "person = Person('Иван', 25, 'мужчина')\n",
    "print(person.name)\n",
    "print(person._sex)\n",
    "print(person.get_age())\n",
    "person.set_age(26)\n",
    "print(person.get_age())\n",
    "# print(person._Person__age)  # получение приватного метода"
   ]
  },
  {
   "cell_type": "markdown",
   "id": "c2d7bb26-f496-45b1-a49a-b1348b7d00df",
   "metadata": {},
   "source": [
    "### Полиморфизм"
   ]
  },
  {
   "cell_type": "code",
   "execution_count": 65,
   "id": "365b1e0f-5058-45af-8ed3-17bc51b7c31d",
   "metadata": {},
   "outputs": [
    {
     "name": "stdout",
     "output_type": "stream",
     "text": [
      "Гав\n",
      "Мяу\n"
     ]
    }
   ],
   "source": [
    "from abc import ABC, abstractmethod\n",
    "\n",
    "class Animal(ABC):\n",
    "    @abstractmethod  # сейчас\n",
    "    def make_sound(self) -> str:\n",
    "        pass\n",
    "        # raise NotImplemented # раньше\n",
    "class Dog(Animal):\n",
    "    def make_sound(self) -> str:\n",
    "        return 'Гав'\n",
    "\n",
    "class Cat(Animal):\n",
    "    def make_sound(self) -> str:\n",
    "        return 'Мяу'\n",
    "\n",
    "def animal_sound(animal: Animal):\n",
    "    print(animal.make_sound())\n",
    "\n",
    "dog = Dog()\n",
    "cat = Cat()\n",
    "\n",
    "animal_sound(dog)\n",
    "animal_sound(cat)"
   ]
  },
  {
   "cell_type": "markdown",
   "id": "8fdc6277-4d96-48cc-9070-194bc9680176",
   "metadata": {},
   "source": [
    "### Множественное"
   ]
  },
  {
   "cell_type": "code",
   "execution_count": 72,
   "id": "916da59d-b454-4c2e-9c69-0c81b695dfab",
   "metadata": {},
   "outputs": [
    {
     "name": "stdout",
     "output_type": "stream",
     "text": [
      "Method from B\n",
      "[<class '__main__.D'>, <class '__main__.B'>, <class '__main__.C'>, <class '__main__.A'>, <class 'object'>]\n"
     ]
    }
   ],
   "source": [
    "class A:\n",
    "    def method(self):\n",
    "        print('Method from A')\n",
    "\n",
    "class B(A):\n",
    "    def method(self):\n",
    "        print('Method from B')\n",
    "\n",
    "class C(A):\n",
    "    def method(self):\n",
    "        print('Method from C')\n",
    "\n",
    "class D(B, C):\n",
    "    pass\n",
    "\n",
    "d = D()\n",
    "d.method()  # D -> B -> C -> A\n",
    "print(D.mro())"
   ]
  },
  {
   "attachments": {
    "6525502e-5b94-43bb-9aa7-1f07665a1232.png": {
     "image/png": "[encoded data removed]"
    }
   },
   "cell_type": "markdown",
   "id": "7402dae2-2cc0-4f91-a76d-0f7dfafaeccb",
   "metadata": {},
   "source": [
    "![napkin-selection.png](attachment:6525502e-5b94-43bb-9aa7-1f07665a1232.png)"
   ]
  },
  {
   "cell_type": "markdown",
   "id": "d870ac49-1e63-42d9-a9d8-8cc9e94658b5",
   "metadata": {},
   "source": [
    "### Скорость и память"
   ]
  },
  {
   "cell_type": "code",
   "execution_count": 73,
   "id": "865389a5-9f9a-4985-8d7f-a7f8e19a5550",
   "metadata": {},
   "outputs": [],
   "source": [
    "class Point:\n",
    "    def __init__(self, x, y):\n",
    "        self.x = x\n",
    "        self.y = y"
   ]
  },
  {
   "cell_type": "code",
   "execution_count": 77,
   "id": "37c3ff51-4383-4d9d-b39c-c52bb648df9b",
   "metadata": {},
   "outputs": [],
   "source": [
    "points = [Point(i, i) for i in range(10000000)]  # namedtuple из collections"
   ]
  },
  {
   "cell_type": "code",
   "execution_count": null,
   "id": "426ec75f-d1a9-41a9-bac6-894725480511",
   "metadata": {},
   "outputs": [],
   "source": [
    "from abc import ABC, abstractmethod\n",
    "\n",
    "class Animal(ABC):\n",
    "    @abstractmethod\n",
    "    def make_sound(self) -> str:\n",
    "        \"\"\"Этот метод должен быть реализован в дочернем классе\"\"\"\n",
    "        pass\n",
    "\n",
    "class Dog(Animal):\n",
    "    def make_sound(self) -> str:\n",
    "        return 'Гав'\n",
    "\n",
    "class Cat(Animal):\n",
    "    def make_sound(self) -> str:\n",
    "        return 'Мяу'\n",
    "\n",
    "def animal_sound(animal: Animal):\n",
    "    print(animal.make_sound())\n",
    "\n",
    "dog = Dog()\n",
    "cat = Cat()\n",
    "\n",
    "animal_sound(dog)\n",
    "animal_sound(cat)"
   ]
  },
  {
   "cell_type": "code",
   "execution_count": 82,
   "id": "d09053e3-f81e-4d42-bd31-8e2901e8aa2f",
   "metadata": {},
   "outputs": [
    {
     "name": "stdout",
     "output_type": "stream",
     "text": [
      "Person(name='Ivan', age=25, job='engeener')\n"
     ]
    }
   ],
   "source": [
    "from dataclasses import dataclass, field\n",
    "\n",
    "@dataclass\n",
    "class Person:\n",
    "    name: str\n",
    "    age: int\n",
    "    job: str\n",
    "\n",
    "person1 = Person(name='Ivan', age=25, job='engeener')\n",
    "person2 = Person(name='Alice', age=30, job='designer')\n",
    "print(person1)\n",
    "# __init__ __repr__ __eq__"
   ]
  },
  {
   "cell_type": "code",
   "execution_count": 88,
   "id": "089b0244-c740-41a9-bb92-bf2159f4bb3d",
   "metadata": {},
   "outputs": [
    {
     "data": {
      "text/plain": [
       "Book(title='1984', genge='Джордж Оурел', reviews=['cool!!!', 'NICE'])"
      ]
     },
     "execution_count": 88,
     "metadata": {},
     "output_type": "execute_result"
    }
   ],
   "source": [
    "@dataclass\n",
    "class Book:\n",
    "    title: str\n",
    "    genge: str = 'Fiction'\n",
    "    reviews: list = field(default_factory=list)\n",
    "\n",
    "book1 = Book('1984', 'Джордж Оурел')\n",
    "book1.reviews.append('cool!!!')\n",
    "book1.reviews.append('NICE')\n",
    "book1"
   ]
  },
  {
   "attachments": {},
   "cell_type": "markdown",
   "id": "2138d25c-c72a-4ca4-861f-52365509aa0d",
   "metadata": {},
   "source": [
    "| **Характеристика**       | **Абстрактные классы**                                | **Датаклассы**                                         |\n",
    "|--------------------------|-------------------------------------------------------|--------------------------------------------------------|\n",
    "| **Цель**                 | Задание интерфейсов и структуры для наследования       | Хранение данных и автоматическая генерация методов     |\n",
    "| **Инстанцирование**      | Нельзя инстанцировать абстрактный класс                | Полноценные классы для создания объектов данных        |\n",
    "| **Наследование**         | Используются как шаблоны для создания дочерних классов | Можно наследоваться, но это не основная их цель        |\n",
    "| **Автоматические методы**| Не генерируются автоматически                         | Автоматически создаются методы `__init__`, `__repr__`, `__eq__` |\n",
    "| **Гибкость**             | Высокая, поддерживает сложную логику и абстракции      | Преимущественно для простых классов с данными     "
   ]
  },
  {
   "cell_type": "markdown",
   "id": "6a6b3f63-13a8-4a12-b56b-71554122a30d",
   "metadata": {},
   "source": [
    "## ДЗ\n",
    "1.\n",
    "Создайте абстрактный класс `Shape`, который содержит метод `area()` для вычисления площади. Реализуйте два класса-наследника `Circle` и `Rectangle`, которые реализуют метод `area()`.\n",
    "\n",
    "    Рассчитайте площадь круга и прямоугольника, используя созданные классы.\n",
    "\n",
    "2.\n",
    "Создайте датакласс `Employee`, который содержит поля `name`, `age`, `position`, и `salary`. Добавьте в класс метод для увеличения зарплаты на заданный процент.\n",
    "\n",
    "    Создайте несколько объектов класса `Employee` и увеличьте зарплату каждому из них.\n",
    "\n",
    "3.\n",
    "    1. Создайте класс `Student`, который имеет атрибуты: имя, возраст и курс.\n",
    "    2. Реализуйте метод `introduce`, который выводит информацию о студенте.\n",
    "    3. Модифицируйте класс `Student`, чтобы атрибуты \"возраст\" и \"курс\" были приватными, и добавьте методы для безопасного изменения и получения этих данных."
   ]
  },
  {
   "cell_type": "code",
   "execution_count": 89,
   "id": "f8e6fde4-12f1-49ff-a14d-c20a2e1aec6f",
   "metadata": {},
   "outputs": [],
   "source": [
    "class MathOperations:\n",
    "    @staticmethod\n",
    "    def add(a, b):\n",
    "        return a + b\n",
    "\n",
    "class Person:\n",
    "    population = 0\n",
    "\n",
    "    def __init__(self, name):\n",
    "        self.name = name\n",
    "        Person.population += 1\n",
    "\n",
    "    @classmethod\n",
    "    def create_anonumys(cls):\n",
    "        return cls('anonumys')\n"
   ]
  },
  {
   "cell_type": "code",
   "execution_count": 92,
   "id": "e7e23114-7f96-4fbb-b306-016087c96320",
   "metadata": {},
   "outputs": [
    {
     "data": {
      "text/plain": [
       "26"
      ]
     },
     "execution_count": 92,
     "metadata": {},
     "output_type": "execute_result"
    }
   ],
   "source": [
    "class Person:\n",
    "    population = 0\n",
    "\n",
    "    def __init__(self, name, age):\n",
    "        self.name = name\n",
    "        self.__age = age\n",
    "        Person.population += 1\n",
    "\n",
    "    @property\n",
    "    def age(self):\n",
    "        return self.__age\n",
    "\n",
    "person = Person('Ivan', 26)\n",
    "person.age"
   ]
  },
  {
   "cell_type": "markdown",
   "id": "273d32cb-a005-4363-9606-37d50b8671c3",
   "metadata": {},
   "source": [
    "| **Характеристика**        | **`@staticmethod`**                             | **`@classmethod`**                           | **`@property`**                           |\n",
    "|---------------------------|-------------------------------------------------|----------------------------------------------|--------------------------------------------|\n",
    "| **Привязка к**             | Не привязан ни к объекту, ни к классу           | Привязан к классу (первый аргумент `cls`)    | Привязан к объекту (первый аргумент `self`)|\n",
    "| **Цель**                  | Для методов, которые не взаимодействуют с объектом или классом | Для методов, которые работают с классом или создают экземпляры | Для работы с атрибутами объектов через интерфейс геттеров и сеттеров |\n",
    "| **Пример вызова**          | `ClassName.method()`                            | `ClassName.method()`                         | `object.attribute`                         |\n",
    "| **Основное использование**| Вспомогательные функции, логически относящиеся к классу | Методы, работающие на уровне класса или создающие объекты | Геттеры и сеттеры для управления доступом к атрибутам объектов |"
   ]
  }
 ],
 "metadata": {
  "kernelspec": {
   "display_name": "Python 3 (ipykernel)",
   "language": "python",
   "name": "python3"
  },
  "language_info": {
   "codemirror_mode": {
    "name": "ipython",
    "version": 3
   },
   "file_extension": ".py",
   "mimetype": "text/x-python",
   "name": "python",
   "nbconvert_exporter": "python",
   "pygments_lexer": "ipython3",
   "version": "3.11.9"
  }
 },
 "nbformat": 4,
 "nbformat_minor": 5
}
