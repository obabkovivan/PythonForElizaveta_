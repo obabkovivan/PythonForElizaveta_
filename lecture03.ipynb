{
 "cells": [
  {
   "cell_type": "markdown",
   "id": "5a959232-b605-4cfb-a615-141deee7e7fa",
   "metadata": {},
   "source": [
    "### For"
   ]
  },
  {
   "cell_type": "code",
   "execution_count": null,
   "id": "1e209a5b-a952-48c7-999a-a6f006876fbd",
   "metadata": {},
   "outputs": [],
   "source": [
    "for variable in sequence:\n",
    "    # блок кода"
   ]
  },
  {
   "cell_type": "code",
   "execution_count": 4,
   "id": "2b24950a-9c90-4f03-ac13-a211394c6198",
   "metadata": {},
   "outputs": [
    {
     "name": "stdout",
     "output_type": "stream",
     "text": [
      "1\n",
      "1\n",
      "1\n",
      "1\n",
      "1\n"
     ]
    }
   ],
   "source": [
    "sequence = ['wall', 'sprite', 'apple', 1, 2]\n",
    "for word in sequence:\n",
    "    print(word)\n",
    "\n",
    "for _ in sequence:\n",
    "    print(1)"
   ]
  },
  {
   "cell_type": "code",
   "execution_count": 11,
   "id": "50a6d0d0-3fba-4ffa-984d-333e6d7b1cd0",
   "metadata": {},
   "outputs": [
    {
     "name": "stdout",
     "output_type": "stream",
     "text": [
      "1\n",
      "3\n",
      "5\n",
      "7\n",
      "9\n"
     ]
    }
   ],
   "source": [
    "for num in range(1, 10, 2):\n",
    "    print(num)"
   ]
  },
  {
   "cell_type": "code",
   "execution_count": 13,
   "id": "79cf56cd-2244-4ec8-ae5a-7435b6623007",
   "metadata": {},
   "outputs": [
    {
     "name": "stdout",
     "output_type": "stream",
     "text": [
      "i = 0 and j = 0\n",
      "i = 0 and j = 1\n",
      "i = 0 and j = 2\n",
      "i = 1 and j = 0\n",
      "i = 1 and j = 1\n",
      "i = 1 and j = 2\n"
     ]
    }
   ],
   "source": [
    "for i in range(2):\n",
    "    for j in range(3):\n",
    "        print(f'i = {i} and j = {j}')"
   ]
  },
  {
   "cell_type": "markdown",
   "id": "be06ef61-3575-49f0-a533-d17265aa4177",
   "metadata": {},
   "source": [
    "### while"
   ]
  },
  {
   "cell_type": "code",
   "execution_count": null,
   "id": "4e55f464-5ca8-4434-b89a-69492764279e",
   "metadata": {},
   "outputs": [],
   "source": [
    "while condition:  # True or False\n",
    "    # блок кода"
   ]
  },
  {
   "cell_type": "code",
   "execution_count": 15,
   "id": "f139d564-cc94-4b0a-8917-aadd3f94fb2d",
   "metadata": {},
   "outputs": [
    {
     "name": "stdout",
     "output_type": "stream",
     "text": [
      "0\n",
      "1\n",
      "2\n",
      "3\n",
      "4\n",
      "5\n"
     ]
    }
   ],
   "source": [
    "count = 0\n",
    "while count < 6:\n",
    "    print(count)\n",
    "    # count += 1\n",
    "    count = count + 1"
   ]
  },
  {
   "cell_type": "code",
   "execution_count": 17,
   "id": "cf61c16c-0fdc-4c40-8995-1e3d37d64ccc",
   "metadata": {},
   "outputs": [
    {
     "name": "stdout",
     "output_type": "stream",
     "text": [
      "0\n",
      "1\n",
      "2\n",
      "3\n",
      "4\n",
      "5\n"
     ]
    }
   ],
   "source": [
    "for num in range(10):\n",
    "    if num == 5:\n",
    "        break  # останавливает цикл\n",
    "    print(num)"
   ]
  },
  {
   "cell_type": "code",
   "execution_count": 21,
   "id": "c29416a3-408f-4831-b2d7-a0bb5b8e18d8",
   "metadata": {},
   "outputs": [
    {
     "name": "stdout",
     "output_type": "stream",
     "text": [
      "0\n",
      "2\n",
      "4\n",
      "6\n",
      "8\n"
     ]
    }
   ],
   "source": [
    "for num in range(10):\n",
    "    if num%2 != 0:\n",
    "        continue\n",
    "    print(num)"
   ]
  },
  {
   "cell_type": "code",
   "execution_count": 24,
   "id": "ead2bef3-ede7-4b5c-b483-701aa5d892fe",
   "metadata": {},
   "outputs": [
    {
     "name": "stdout",
     "output_type": "stream",
     "text": [
      "0\n",
      "1\n",
      "2\n",
      "3\n",
      "4\n",
      "6\n",
      "7\n",
      "8\n",
      "9\n"
     ]
    }
   ],
   "source": [
    "for num in range(10):\n",
    "    if num == 2:\n",
    "        pass  # ничего не делать\n",
    "    if num == 5:\n",
    "        continue\n",
    "    print(num)"
   ]
  },
  {
   "cell_type": "markdown",
   "id": "357b99a2-fb78-4d6f-8041-80bcb8adb742",
   "metadata": {},
   "source": [
    "### Функции"
   ]
  },
  {
   "cell_type": "code",
   "execution_count": null,
   "id": "ec7875e1-5dc1-44df-9dfd-b5f4bdc83033",
   "metadata": {},
   "outputs": [],
   "source": [
    "def function_name(paramenters):  # functionName\n",
    "    #  блок кода\n",
    "    retrun value"
   ]
  },
  {
   "cell_type": "code",
   "execution_count": 25,
   "id": "a9459f29-4bad-4ba1-a0b9-9300de6582d4",
   "metadata": {},
   "outputs": [],
   "source": [
    "def sum_numbers(a, b):\n",
    "    return a + b"
   ]
  },
  {
   "cell_type": "code",
   "execution_count": 27,
   "id": "2ebc5012-020a-4b7e-b8a0-7ca4d001c73c",
   "metadata": {},
   "outputs": [
    {
     "data": {
      "text/plain": [
       "124123"
      ]
     },
     "execution_count": 27,
     "metadata": {},
     "output_type": "execute_result"
    }
   ],
   "source": [
    "sum_numbers(1000, 123123)"
   ]
  },
  {
   "cell_type": "markdown",
   "id": "14f09502-092f-4b8e-b0eb-b0df4db37d5d",
   "metadata": {},
   "source": [
    "Встроенные функции в Python https://docs.python.org/3/library/functions.html"
   ]
  },
  {
   "cell_type": "code",
   "execution_count": 31,
   "id": "5970f6e4-38dd-49c6-920c-7a53cda13359",
   "metadata": {},
   "outputs": [
    {
     "name": "stdout",
     "output_type": "stream",
     "text": [
      "['wall', 'sprite', 'apple', 1, 2]\n",
      "<class 'list'>\n"
     ]
    }
   ],
   "source": [
    "sequence = ['wall', 'sprite', 'apple', 1, 2]\n",
    "len(sequence)\n",
    "print(sequence)\n",
    "print(type(sequence))"
   ]
  },
  {
   "cell_type": "code",
   "execution_count": 42,
   "id": "241791ce-bd1a-4fd5-af8d-e93f5b1cefb3",
   "metadata": {},
   "outputs": [
    {
     "name": "stdout",
     "output_type": "stream",
     "text": [
      "x=2, y=1\n"
     ]
    },
    {
     "data": {
      "text/plain": [
       "2"
      ]
     },
     "execution_count": 42,
     "metadata": {},
     "output_type": "execute_result"
    }
   ],
   "source": [
    "# позиционные аргументы\n",
    "def multiply(x, y):\n",
    "    m = x * y\n",
    "    print(f'x={x}, y={y}')\n",
    "    return m\n",
    "\n",
    "multiply(2, 1)"
   ]
  },
  {
   "cell_type": "code",
   "execution_count": 45,
   "id": "df8f10ef-95db-426e-bb18-b3db685f4404",
   "metadata": {},
   "outputs": [
    {
     "name": "stdout",
     "output_type": "stream",
     "text": [
      "x=1, y=2\n"
     ]
    },
    {
     "data": {
      "text/plain": [
       "2"
      ]
     },
     "execution_count": 45,
     "metadata": {},
     "output_type": "execute_result"
    }
   ],
   "source": [
    "# ключевые аргументы\n",
    "def multiply(x, y):\n",
    "    m = x * y\n",
    "    print(f'x={x}, y={y}')\n",
    "    return m\n",
    "\n",
    "multiply(y=2, x=1)"
   ]
  },
  {
   "cell_type": "code",
   "execution_count": 47,
   "id": "f9be39b2-aa04-46c7-a9b1-cf947d9b369a",
   "metadata": {},
   "outputs": [
    {
     "name": "stdout",
     "output_type": "stream",
     "text": [
      "x=1, y=3\n"
     ]
    },
    {
     "data": {
      "text/plain": [
       "3"
      ]
     },
     "execution_count": 47,
     "metadata": {},
     "output_type": "execute_result"
    }
   ],
   "source": [
    "def multiply(x, y=2):\n",
    "    m = x * y\n",
    "    print(f'x={x}, y={y}')\n",
    "    return m\n",
    "\n",
    "multiply(x=1, y=3)"
   ]
  },
  {
   "cell_type": "code",
   "execution_count": 56,
   "id": "c5f95458-9616-4f3f-bfb7-649d6575bff2",
   "metadata": {},
   "outputs": [
    {
     "name": "stdout",
     "output_type": "stream",
     "text": [
      "[1]\n",
      "[1]\n"
     ]
    }
   ],
   "source": [
    "def func(a=[]):  # wrong\n",
    "    a.append(1)\n",
    "    print(a)\n",
    "\n",
    "def func(a=None):\n",
    "    if a is None:\n",
    "        a = []\n",
    "    a.append(1)\n",
    "    print(a)\n",
    "\n",
    "func()\n",
    "func()"
   ]
  },
  {
   "cell_type": "code",
   "execution_count": 57,
   "id": "bcd17854-4ab4-4da0-87bb-38330319266c",
   "metadata": {},
   "outputs": [
    {
     "data": {
      "text/plain": [
       "'123qwe'"
      ]
     },
     "execution_count": 57,
     "metadata": {},
     "output_type": "execute_result"
    }
   ],
   "source": [
    "def summa(a: int, b: int):\n",
    "    return a + b\n",
    "\n",
    "summa('123', 'qwe')"
   ]
  },
  {
   "cell_type": "code",
   "execution_count": 59,
   "id": "ba609451-9f3a-4834-b9e1-a4a2cf851654",
   "metadata": {},
   "outputs": [
    {
     "name": "stdout",
     "output_type": "stream",
     "text": [
      "name=Python \n",
      " age=12 \n",
      " args=(1, 2, 3, 4, 5, 6, 7, 8, 9, 'qwerty', [123, 12]) \n",
      " kwargs={'a': 1, 'b': 2, 'c': 3, 'd': 4, 'e': 5, 'f': 6, 'g': 7, 'h': 8, 'i': 'qwerty', 'j': 10}\n"
     ]
    }
   ],
   "source": [
    "def summa(a: int, b: int):\n",
    "    return a + b\n",
    "\n",
    "# print(summa(1, 1))\n",
    "\n",
    "\n",
    "def person(name: str, age: int, *args: int | str | list, **kwargs: int | str):\n",
    "    print(f'name={name} \\n age={age} \\n args={args} \\n kwargs={kwargs}')\n",
    "\n",
    "person('Python', 12, 1, 2, 3, 4, 5, 6, 7, 8, 9, 'qwerty', [123, 12], a=1, b=2, c=3, d=4, e=5, f=6, g=7, h=8, i='qwerty', j=10)\n",
    "\n"
   ]
  },
  {
   "cell_type": "code",
   "execution_count": 72,
   "id": "7171e84e-16e9-40dc-876d-9c5aee59ab28",
   "metadata": {},
   "outputs": [
    {
     "name": "stdout",
     "output_type": "stream",
     "text": [
      "<class 'range'>\n"
     ]
    }
   ],
   "source": [
    "def func(a: int, b: str) -> tuple[int, str]:\n",
    "    a += 1\n",
    "    b += 'Hello'\n",
    "    return a, b\n",
    "\n",
    "type(func(1, 'qweqwe'))\n",
    "\n",
    "def func(a: int, b: str) -> list[int | str]:\n",
    "    return [a, b]\n",
    "\n",
    "\n",
    "\n",
    "type(func(1, 'qweqwe'))\n",
    "\n",
    "a = func(1, 'qweqwe')\n",
    "type(a)\n",
    "\n",
    "a = range(5)\n",
    "print(type(a))"
   ]
  },
  {
   "cell_type": "code",
   "execution_count": null,
   "id": "e7ea3e24-87bb-4492-b7a6-93244647cf95",
   "metadata": {},
   "outputs": [],
   "source": []
  },
  {
   "cell_type": "code",
   "execution_count": null,
   "id": "7b4c9d51-e8be-401c-804e-fe38e0105ab9",
   "metadata": {},
   "outputs": [],
   "source": [
    "List Comprehension"
   ]
  },
  {
   "cell_type": "code",
   "execution_count": null,
   "id": "0b6f37e8-4f1b-467b-a27a-808f825034f6",
   "metadata": {},
   "outputs": [],
   "source": [
    "[expression for item in iterable if condition]"
   ]
  },
  {
   "cell_type": "code",
   "execution_count": 68,
   "id": "1a1cd4b5-4710-4753-924d-edc2e1cd7b02",
   "metadata": {},
   "outputs": [
    {
     "name": "stdout",
     "output_type": "stream",
     "text": [
      "[1, 4, 9, 16, 25, 36, 49, 64, 81, 100]\n",
      "[1, 4, 9, 16, 25, 36, 49, 64, 81, 100]\n"
     ]
    }
   ],
   "source": [
    "squares = [x**2 for x in range(1, 11)]\n",
    "print(squares)\n",
    "\n",
    "a = []\n",
    "for i in range(1, 11):\n",
    "    a.append(i**2)\n",
    "\n",
    "print(a)"
   ]
  },
  {
   "cell_type": "code",
   "execution_count": null,
   "id": "2ce0a4c4-a22e-488c-86af-2eb7e34d2642",
   "metadata": {},
   "outputs": [],
   "source": [
    "Dictionary Comprehension"
   ]
  },
  {
   "cell_type": "code",
   "execution_count": null,
   "id": "d3ac5674-efed-44f9-a8f8-5433460c6107",
   "metadata": {},
   "outputs": [],
   "source": [
    "{key_expression: value_expression for item in iterable if condition}"
   ]
  },
  {
   "cell_type": "code",
   "execution_count": 69,
   "id": "0843100c-f7bf-4d39-808c-bd4805b7c394",
   "metadata": {},
   "outputs": [
    {
     "name": "stdout",
     "output_type": "stream",
     "text": [
      "{1: 1, 2: 4, 3: 9, 4: 16, 5: 25, 6: 36, 7: 49, 8: 64, 9: 81, 10: 100}\n"
     ]
    }
   ],
   "source": [
    "suares_dict = {x: x**2 for x in range(1, 11)}\n",
    "print(suares_dict)"
   ]
  },
  {
   "cell_type": "code",
   "execution_count": null,
   "id": "b5de1860-2fb5-47cc-a17e-137ba071e57a",
   "metadata": {},
   "outputs": [],
   "source": []
  },
  {
   "cell_type": "code",
   "execution_count": null,
   "id": "a925eaeb-ce3d-4097-a756-889dda5b0849",
   "metadata": {},
   "outputs": [],
   "source": []
  },
  {
   "cell_type": "code",
   "execution_count": null,
   "id": "4871f339-f18e-4cae-ac98-091f1d0491e9",
   "metadata": {},
   "outputs": [],
   "source": []
  }
 ],
 "metadata": {
  "kernelspec": {
   "display_name": "Python 3 (ipykernel)",
   "language": "python",
   "name": "python3"
  },
  "language_info": {
   "codemirror_mode": {
    "name": "ipython",
    "version": 3
   },
   "file_extension": ".py",
   "mimetype": "text/x-python",
   "name": "python",
   "nbconvert_exporter": "python",
   "pygments_lexer": "ipython3",
   "version": "3.11.9"
  }
 },
 "nbformat": 4,
 "nbformat_minor": 5
}
