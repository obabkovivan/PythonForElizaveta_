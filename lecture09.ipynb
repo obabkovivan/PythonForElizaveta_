{
 "cells": [
  {
   "cell_type": "code",
   "execution_count": 2,
   "id": "336b2f75-54fb-4efd-a191-7daca5c06107",
   "metadata": {},
   "outputs": [],
   "source": [
    "import numpy as np\n",
    "import pandas as pd"
   ]
  },
  {
   "cell_type": "markdown",
   "id": "34d36469-a8b0-4f14-ba78-5aef6620a444",
   "metadata": {},
   "source": [
    "Как получить строки из series A, которые не содержатся в series B?"
   ]
  },
  {
   "cell_type": "code",
   "execution_count": 18,
   "id": "19878c70-eb5e-4dbe-86cc-2d3196b5214c",
   "metadata": {},
   "outputs": [],
   "source": [
    "df1=pd.Series(['a', 'b', 'c'])\n",
    "df2=pd.Series(['a', 'b1', 'c2'])"
   ]
  },
  {
   "cell_type": "code",
   "execution_count": 21,
   "id": "8d68cbb3-026f-4454-8f7e-474d7da1f8cd",
   "metadata": {},
   "outputs": [
    {
     "data": {
      "text/plain": [
       "0    a\n",
       "1    b\n",
       "2    c\n",
       "dtype: object"
      ]
     },
     "execution_count": 21,
     "metadata": {},
     "output_type": "execute_result"
    }
   ],
   "source": [
    "df1"
   ]
  },
  {
   "cell_type": "code",
   "execution_count": 22,
   "id": "4edb0991-f698-4d3b-b622-4aa0fd731a41",
   "metadata": {},
   "outputs": [
    {
     "data": {
      "text/plain": [
       "0     a\n",
       "1    b1\n",
       "2    c2\n",
       "dtype: object"
      ]
     },
     "execution_count": 22,
     "metadata": {},
     "output_type": "execute_result"
    }
   ],
   "source": [
    "df2"
   ]
  },
  {
   "cell_type": "code",
   "execution_count": 23,
   "id": "e437247c-fa56-4822-af46-766ca239b45c",
   "metadata": {},
   "outputs": [
    {
     "data": {
      "text/plain": [
       "array(['b', 'c'], dtype=object)"
      ]
     },
     "execution_count": 23,
     "metadata": {},
     "output_type": "execute_result"
    }
   ],
   "source": [
    "df1[df1.values != df2.values].values"
   ]
  },
  {
   "cell_type": "markdown",
   "id": "7ebe8f34-85d7-4506-b5eb-d5206550bb53",
   "metadata": {},
   "source": [
    "Как получить из series/dataframe минимум, 25й персентиль, медиану, 75тый персентиль, максимум?"
   ]
  },
  {
   "cell_type": "code",
   "execution_count": 27,
   "id": "e785bfcf-3782-43ca-858d-abbef39a4606",
   "metadata": {},
   "outputs": [
    {
     "data": {
      "text/plain": [
       "count    89.000000\n",
       "mean     54.000000\n",
       "std      25.836021\n",
       "min      10.000000\n",
       "25%      32.000000\n",
       "50%      54.000000\n",
       "75%      76.000000\n",
       "max      98.000000\n",
       "dtype: float64"
      ]
     },
     "execution_count": 27,
     "metadata": {},
     "output_type": "execute_result"
    }
   ],
   "source": [
    "s1=pd.Series(np.arange(10, 99))\n",
    "s1.describe()"
   ]
  },
  {
   "cell_type": "markdown",
   "id": "31803b1b-b25b-4632-b88e-6e6768297e31",
   "metadata": {},
   "source": [
    "Как получить частоту\\долю для всех уникальных объектов в series?"
   ]
  },
  {
   "cell_type": "code",
   "execution_count": 31,
   "id": "f3477520-31e1-4067-a56b-f847c1f9ef5d",
   "metadata": {},
   "outputs": [
    {
     "data": {
      "text/plain": [
       "a    0.384615\n",
       "c    0.230769\n",
       "b    0.153846\n",
       "g    0.076923\n",
       "v    0.076923\n",
       "u    0.076923\n",
       "Name: proportion, dtype: float64"
      ]
     },
     "execution_count": 31,
     "metadata": {},
     "output_type": "execute_result"
    }
   ],
   "source": [
    "df1=pd.Series(['a', 'b', 'c', 'g', 'v', 'a', 'a', 'a', 'u', 'a', 'b', 'c', 'c'])\n",
    "df1.value_counts(normalize=True)"
   ]
  },
  {
   "cell_type": "markdown",
   "id": "c077c64e-d67e-4265-b5e1-d0a86332110e",
   "metadata": {},
   "source": [
    "Как оставить только топ-2 самых часто встречающихся значений, а все остальные значения заменить на 'other'?"
   ]
  },
  {
   "cell_type": "code",
   "execution_count": 37,
   "id": "ce12fd1a-e691-4681-bf52-21226ea09e3b",
   "metadata": {},
   "outputs": [
    {
     "data": {
      "text/plain": [
       "a    5\n",
       "c    3\n",
       "b    0\n",
       "g    0\n",
       "v    0\n",
       "u    0\n",
       "Name: count, dtype: int64"
      ]
     },
     "execution_count": 37,
     "metadata": {},
     "output_type": "execute_result"
    }
   ],
   "source": [
    "df1 = pd.Series(['a', 'b', 'c', 'g', 'v', 'a', 'a', 'a', 'u', 'a', 'b', 'c', 'c'])\n",
    "df1 = df1.value_counts()\n",
    "df1[2:] = 0\n",
    "df1"
   ]
  },
  {
   "cell_type": "markdown",
   "id": "cb7b5aeb-aa26-48d2-af24-54f0d6322301",
   "metadata": {},
   "source": [
    "Как разбить колонку с числовыми значениями на 10 групп одинакового размера?"
   ]
  },
  {
   "cell_type": "code",
   "execution_count": 41,
   "id": "a10d0939-a201-434b-b019-9a07cffc2ff6",
   "metadata": {},
   "outputs": [
    {
     "name": "stderr",
     "output_type": "stream",
     "text": [
      "/var/folders/64/5d1d86ts6r7_c93jjw7kgz_00000gn/T/ipykernel_4575/1295806163.py:4: FutureWarning: The default of observed=False is deprecated and will be changed to True in a future version of pandas. Pass observed=False to retain current behavior or observed=True to adopt the future default and silence this warning.\n",
      "  gr = s.groupby(q)\n"
     ]
    },
    {
     "data": {
      "text/plain": [
       "(0.0108, 0.167]    2\n",
       "(0.167, 0.231]     2\n",
       "(0.231, 0.338]     2\n",
       "(0.338, 0.369]     2\n",
       "(0.369, 0.427]     2\n",
       "(0.427, 0.429]     2\n",
       "(0.429, 0.505]     2\n",
       "(0.505, 0.673]     2\n",
       "(0.673, 0.769]     2\n",
       "(0.769, 0.961]     2\n",
       "dtype: int64"
      ]
     },
     "execution_count": 41,
     "metadata": {},
     "output_type": "execute_result"
    }
   ],
   "source": [
    "s = pd.Series(np.random.random(20))\n",
    "\n",
    "q = pd.qcut(s, 10)\n",
    "gr = s.groupby(q)\n",
    "gr.size()"
   ]
  },
  {
   "cell_type": "markdown",
   "id": "11ba6fdf-88f2-4967-b715-70b1d8815662",
   "metadata": {},
   "source": [
    "Как найти позиции чисел, которые делятся на 3 без остатка из series?"
   ]
  },
  {
   "cell_type": "code",
   "execution_count": 46,
   "id": "6b3cabbe-dcec-4552-8241-0a47335c14f6",
   "metadata": {},
   "outputs": [
    {
     "data": {
      "text/plain": [
       "Index([2, 5, 8, 11], dtype='int64')"
      ]
     },
     "execution_count": 46,
     "metadata": {},
     "output_type": "execute_result"
    }
   ],
   "source": [
    "s = pd.Series(range(2,25,2))\n",
    "d3 = s[s.values % 3 == 0].index\n",
    "d3"
   ]
  },
  {
   "cell_type": "markdown",
   "id": "dff4ef6b-5d4f-4cd7-9987-2232b8d09f67",
   "metadata": {},
   "source": [
    "Как сделать stack двух series вертикально и горизонтально?"
   ]
  },
  {
   "cell_type": "code",
   "execution_count": 54,
   "id": "35bf3b48-2e51-4ba4-b0ae-39a4be4528fa",
   "metadata": {
    "scrolled": true
   },
   "outputs": [
    {
     "ename": "AttributeError",
     "evalue": "'Series' object has no attribute 'append'",
     "output_type": "error",
     "traceback": [
      "\u001b[0;31m---------------------------------------------------------------------------\u001b[0m",
      "\u001b[0;31mAttributeError\u001b[0m                            Traceback (most recent call last)",
      "\u001b[0;32m/var/folders/64/5d1d86ts6r7_c93jjw7kgz_00000gn/T/ipykernel_4575/1567039662.py\u001b[0m in \u001b[0;36m?\u001b[0;34m()\u001b[0m\n\u001b[1;32m      1\u001b[0m \u001b[0ms1\u001b[0m \u001b[0;34m=\u001b[0m \u001b[0mpd\u001b[0m\u001b[0;34m.\u001b[0m\u001b[0mSeries\u001b[0m\u001b[0;34m(\u001b[0m\u001b[0mrange\u001b[0m\u001b[0;34m(\u001b[0m\u001b[0;36m5\u001b[0m\u001b[0;34m)\u001b[0m\u001b[0;34m)\u001b[0m\u001b[0;34m\u001b[0m\u001b[0;34m\u001b[0m\u001b[0m\n\u001b[1;32m      2\u001b[0m \u001b[0ms2\u001b[0m \u001b[0;34m=\u001b[0m \u001b[0mpd\u001b[0m\u001b[0;34m.\u001b[0m\u001b[0mSeries\u001b[0m\u001b[0;34m(\u001b[0m\u001b[0mlist\u001b[0m\u001b[0;34m(\u001b[0m\u001b[0;34m'abcde'\u001b[0m\u001b[0;34m)\u001b[0m\u001b[0;34m)\u001b[0m\u001b[0;34m\u001b[0m\u001b[0;34m\u001b[0m\u001b[0m\n\u001b[0;32m----> 3\u001b[0;31m \u001b[0ms1\u001b[0m\u001b[0;34m.\u001b[0m\u001b[0mappend\u001b[0m\u001b[0;34m(\u001b[0m\u001b[0ms2\u001b[0m\u001b[0;34m,\u001b[0m \u001b[0mignore_index\u001b[0m\u001b[0;34m=\u001b[0m\u001b[0;32mTrue\u001b[0m\u001b[0;34m)\u001b[0m\u001b[0;34m\u001b[0m\u001b[0;34m\u001b[0m\u001b[0m\n\u001b[0m",
      "\u001b[0;32m~/.pyenv/versions/3.11.9/lib/python3.11/site-packages/pandas/core/generic.py\u001b[0m in \u001b[0;36m?\u001b[0;34m(self, name)\u001b[0m\n\u001b[1;32m   6295\u001b[0m             \u001b[0;32mand\u001b[0m \u001b[0mname\u001b[0m \u001b[0;32mnot\u001b[0m \u001b[0;32min\u001b[0m \u001b[0mself\u001b[0m\u001b[0;34m.\u001b[0m\u001b[0m_accessors\u001b[0m\u001b[0;34m\u001b[0m\u001b[0;34m\u001b[0m\u001b[0m\n\u001b[1;32m   6296\u001b[0m             \u001b[0;32mand\u001b[0m \u001b[0mself\u001b[0m\u001b[0;34m.\u001b[0m\u001b[0m_info_axis\u001b[0m\u001b[0;34m.\u001b[0m\u001b[0m_can_hold_identifiers_and_holds_name\u001b[0m\u001b[0;34m(\u001b[0m\u001b[0mname\u001b[0m\u001b[0;34m)\u001b[0m\u001b[0;34m\u001b[0m\u001b[0;34m\u001b[0m\u001b[0m\n\u001b[1;32m   6297\u001b[0m         ):\n\u001b[1;32m   6298\u001b[0m             \u001b[0;32mreturn\u001b[0m \u001b[0mself\u001b[0m\u001b[0;34m[\u001b[0m\u001b[0mname\u001b[0m\u001b[0;34m]\u001b[0m\u001b[0;34m\u001b[0m\u001b[0;34m\u001b[0m\u001b[0m\n\u001b[0;32m-> 6299\u001b[0;31m         \u001b[0;32mreturn\u001b[0m \u001b[0mobject\u001b[0m\u001b[0;34m.\u001b[0m\u001b[0m__getattribute__\u001b[0m\u001b[0;34m(\u001b[0m\u001b[0mself\u001b[0m\u001b[0;34m,\u001b[0m \u001b[0mname\u001b[0m\u001b[0;34m)\u001b[0m\u001b[0;34m\u001b[0m\u001b[0;34m\u001b[0m\u001b[0m\n\u001b[0m",
      "\u001b[0;31mAttributeError\u001b[0m: 'Series' object has no attribute 'append'"
     ]
    }
   ],
   "source": [
    "s1 = pd.Series(range(5))\n",
    "s2 = pd.Series(list('abcde'))\n",
    "s1.append(s2, ignore_index=True)"
   ]
  },
  {
   "cell_type": "code",
   "execution_count": 48,
   "id": "ad839ebf-0429-4695-a813-0ea86793d869",
   "metadata": {},
   "outputs": [
    {
     "data": {
      "text/plain": [
       "0    0\n",
       "1    1\n",
       "2    2\n",
       "3    3\n",
       "4    4\n",
       "dtype: int64"
      ]
     },
     "execution_count": 48,
     "metadata": {},
     "output_type": "execute_result"
    }
   ],
   "source": [
    "s1"
   ]
  },
  {
   "cell_type": "code",
   "execution_count": 49,
   "id": "6194a202-8178-445f-b7bc-cc6e9e7a4edc",
   "metadata": {},
   "outputs": [
    {
     "data": {
      "text/plain": [
       "0    a\n",
       "1    b\n",
       "2    c\n",
       "3    d\n",
       "4    e\n",
       "dtype: object"
      ]
     },
     "execution_count": 49,
     "metadata": {},
     "output_type": "execute_result"
    }
   ],
   "source": [
    "s2"
   ]
  },
  {
   "cell_type": "markdown",
   "id": "300e90c2-e89a-4d2f-9bf7-df7649935bc8",
   "metadata": {},
   "source": [
    " Как получить позиции строк из series A из другого series B?"
   ]
  },
  {
   "cell_type": "code",
   "execution_count": 65,
   "id": "a18a4136-98eb-4f3c-b626-9e3b7175e8a6",
   "metadata": {},
   "outputs": [
    {
     "data": {
      "text/plain": [
       "0    NaN\n",
       "1    NaN\n",
       "2    NaN\n",
       "3    NaN\n",
       "4    3.0\n",
       "5    1.0\n",
       "6    NaN\n",
       "7    NaN\n",
       "8    NaN\n",
       "dtype: float64"
      ]
     },
     "execution_count": 65,
     "metadata": {},
     "output_type": "execute_result"
    }
   ],
   "source": [
    "s1 = pd.Series([10, 9, 6, 5, 3, 1, 12, 8, 13])\n",
    "s2 = pd.Series([1, 3, 10, 13])\n",
    "s1.apply(lambda i: i if i in s2 else np.nan)"
   ]
  },
  {
   "cell_type": "code",
   "execution_count": 55,
   "id": "c4cc471f-a297-4ae3-904b-a4ca85134242",
   "metadata": {},
   "outputs": [
    {
     "data": {
      "text/plain": [
       "8"
      ]
     },
     "execution_count": 55,
     "metadata": {},
     "output_type": "execute_result"
    }
   ],
   "source": [
    "# lambda в python\n",
    "add = lambda x, y: x + y\n",
    "add(3, 5)"
   ]
  },
  {
   "cell_type": "code",
   "execution_count": 62,
   "id": "dc2e31a9-2b56-429d-97df-1a3c3854a941",
   "metadata": {},
   "outputs": [
    {
     "data": {
      "text/plain": [
       "[(2, 1), (3, 2), (1, 3), (6, 4)]"
      ]
     },
     "execution_count": 62,
     "metadata": {},
     "output_type": "execute_result"
    }
   ],
   "source": [
    "# с функцией sorted\n",
    "data = [(1, 3), (2, 1), (3, 2), (6, 4)]\n",
    "sorted_data = sorted(data, key=lambda x: x[1])\n",
    "sorted_data"
   ]
  },
  {
   "cell_type": "code",
   "execution_count": 60,
   "id": "acf8838d-0eac-4bfb-9215-d5159c1ad68b",
   "metadata": {},
   "outputs": [
    {
     "data": {
      "text/plain": [
       "[2, 4, 6]"
      ]
     },
     "execution_count": 60,
     "metadata": {},
     "output_type": "execute_result"
    }
   ],
   "source": [
    "numbers = [1, 2, 3, 4, 5, 6]\n",
    "even_numbers = list(filter(lambda x: x % 2 == 0, numbers))\n",
    "even_numbers"
   ]
  },
  {
   "cell_type": "code",
   "execution_count": null,
   "id": "2972c6e9-f856-4bbc-857f-3c77c4422a33",
   "metadata": {},
   "outputs": [],
   "source": [
    "# несколько аргументов\n",
    "multiply = lambda x, y, z: x * y * z\n",
    "multiply(2, 3, 4)"
   ]
  },
  {
   "cell_type": "markdown",
   "id": "f65e0929-5813-4896-8ac3-cf087d1aeedf",
   "metadata": {},
   "source": [
    "Как конвертировать каждый первый элемент строке в series в верхний регистр?"
   ]
  },
  {
   "cell_type": "code",
   "execution_count": 70,
   "id": "96d45ced-8452-4a06-9d20-02fd837a3218",
   "metadata": {},
   "outputs": [
    {
     "name": "stdout",
     "output_type": "stream",
     "text": [
      "0     how\n",
      "1      to\n",
      "2    kick\n",
      "3    ass?\n",
      "dtype: object\n"
     ]
    },
    {
     "data": {
      "text/plain": [
       "0     How\n",
       "1      To\n",
       "2    Kick\n",
       "3    Ass?\n",
       "dtype: object"
      ]
     },
     "execution_count": 70,
     "metadata": {},
     "output_type": "execute_result"
    }
   ],
   "source": [
    "s = pd.Series(['how', 'to', 'kick', 'ass?'])\n",
    "print(s)\n",
    "s.apply(lambda word: word[0].upper() + word[1:])\n",
    "# s.apply(lambda word: word.title())"
   ]
  },
  {
   "cell_type": "markdown",
   "id": "69c12910-9d02-4c81-a642-d883b9f004df",
   "metadata": {},
   "source": [
    "Как изменить значения столбца при импорте csv в фрейм данных? Импортируйте датасет с помощью pd.read_csv, но колонку 'medv' (median house value) измените так, что если value < 25 = ‘Low’ и если > 25 = ‘High’."
   ]
  },
  {
   "cell_type": "code",
   "execution_count": 75,
   "id": "d56d85d1-68dc-48dd-85aa-705f9a9ca71a",
   "metadata": {},
   "outputs": [
    {
     "data": {
      "text/html": [
       "<div>\n",
       "<style scoped>\n",
       "    .dataframe tbody tr th:only-of-type {\n",
       "        vertical-align: middle;\n",
       "    }\n",
       "\n",
       "    .dataframe tbody tr th {\n",
       "        vertical-align: top;\n",
       "    }\n",
       "\n",
       "    .dataframe thead th {\n",
       "        text-align: right;\n",
       "    }\n",
       "</style>\n",
       "<table border=\"1\" class=\"dataframe\">\n",
       "  <thead>\n",
       "    <tr style=\"text-align: right;\">\n",
       "      <th></th>\n",
       "      <th>CRIM</th>\n",
       "      <th>ZN</th>\n",
       "      <th>INDUS</th>\n",
       "      <th>CHAS</th>\n",
       "      <th>NOX</th>\n",
       "      <th>RM</th>\n",
       "      <th>AGE</th>\n",
       "      <th>DIS</th>\n",
       "      <th>RAD</th>\n",
       "      <th>TAX</th>\n",
       "      <th>PTRATIO</th>\n",
       "      <th>B</th>\n",
       "      <th>LSTAT</th>\n",
       "      <th>MEDV</th>\n",
       "    </tr>\n",
       "  </thead>\n",
       "  <tbody>\n",
       "    <tr>\n",
       "      <th>0</th>\n",
       "      <td>0.00632</td>\n",
       "      <td>18.0</td>\n",
       "      <td>2.31</td>\n",
       "      <td>0</td>\n",
       "      <td>0.538</td>\n",
       "      <td>6.575</td>\n",
       "      <td>65.2</td>\n",
       "      <td>4.0900</td>\n",
       "      <td>1</td>\n",
       "      <td>296</td>\n",
       "      <td>15.3</td>\n",
       "      <td>396.90</td>\n",
       "      <td>4.98</td>\n",
       "      <td>Low</td>\n",
       "    </tr>\n",
       "    <tr>\n",
       "      <th>1</th>\n",
       "      <td>0.02731</td>\n",
       "      <td>0.0</td>\n",
       "      <td>7.07</td>\n",
       "      <td>0</td>\n",
       "      <td>0.469</td>\n",
       "      <td>6.421</td>\n",
       "      <td>78.9</td>\n",
       "      <td>4.9671</td>\n",
       "      <td>2</td>\n",
       "      <td>242</td>\n",
       "      <td>17.8</td>\n",
       "      <td>396.90</td>\n",
       "      <td>9.14</td>\n",
       "      <td>Low</td>\n",
       "    </tr>\n",
       "    <tr>\n",
       "      <th>2</th>\n",
       "      <td>0.02729</td>\n",
       "      <td>0.0</td>\n",
       "      <td>7.07</td>\n",
       "      <td>0</td>\n",
       "      <td>0.469</td>\n",
       "      <td>7.185</td>\n",
       "      <td>61.1</td>\n",
       "      <td>4.9671</td>\n",
       "      <td>2</td>\n",
       "      <td>242</td>\n",
       "      <td>17.8</td>\n",
       "      <td>392.83</td>\n",
       "      <td>4.03</td>\n",
       "      <td>High</td>\n",
       "    </tr>\n",
       "    <tr>\n",
       "      <th>3</th>\n",
       "      <td>0.03237</td>\n",
       "      <td>0.0</td>\n",
       "      <td>2.18</td>\n",
       "      <td>0</td>\n",
       "      <td>0.458</td>\n",
       "      <td>6.998</td>\n",
       "      <td>45.8</td>\n",
       "      <td>6.0622</td>\n",
       "      <td>3</td>\n",
       "      <td>222</td>\n",
       "      <td>18.7</td>\n",
       "      <td>394.63</td>\n",
       "      <td>2.94</td>\n",
       "      <td>High</td>\n",
       "    </tr>\n",
       "    <tr>\n",
       "      <th>4</th>\n",
       "      <td>0.06905</td>\n",
       "      <td>0.0</td>\n",
       "      <td>2.18</td>\n",
       "      <td>0</td>\n",
       "      <td>0.458</td>\n",
       "      <td>7.147</td>\n",
       "      <td>54.2</td>\n",
       "      <td>6.0622</td>\n",
       "      <td>3</td>\n",
       "      <td>222</td>\n",
       "      <td>18.7</td>\n",
       "      <td>396.90</td>\n",
       "      <td>5.33</td>\n",
       "      <td>High</td>\n",
       "    </tr>\n",
       "    <tr>\n",
       "      <th>...</th>\n",
       "      <td>...</td>\n",
       "      <td>...</td>\n",
       "      <td>...</td>\n",
       "      <td>...</td>\n",
       "      <td>...</td>\n",
       "      <td>...</td>\n",
       "      <td>...</td>\n",
       "      <td>...</td>\n",
       "      <td>...</td>\n",
       "      <td>...</td>\n",
       "      <td>...</td>\n",
       "      <td>...</td>\n",
       "      <td>...</td>\n",
       "      <td>...</td>\n",
       "    </tr>\n",
       "    <tr>\n",
       "      <th>501</th>\n",
       "      <td>0.06263</td>\n",
       "      <td>0.0</td>\n",
       "      <td>11.93</td>\n",
       "      <td>0</td>\n",
       "      <td>0.573</td>\n",
       "      <td>6.593</td>\n",
       "      <td>69.1</td>\n",
       "      <td>2.4786</td>\n",
       "      <td>1</td>\n",
       "      <td>273</td>\n",
       "      <td>21.0</td>\n",
       "      <td>391.99</td>\n",
       "      <td>9.67</td>\n",
       "      <td>Low</td>\n",
       "    </tr>\n",
       "    <tr>\n",
       "      <th>502</th>\n",
       "      <td>0.04527</td>\n",
       "      <td>0.0</td>\n",
       "      <td>11.93</td>\n",
       "      <td>0</td>\n",
       "      <td>0.573</td>\n",
       "      <td>6.120</td>\n",
       "      <td>76.7</td>\n",
       "      <td>2.2875</td>\n",
       "      <td>1</td>\n",
       "      <td>273</td>\n",
       "      <td>21.0</td>\n",
       "      <td>396.90</td>\n",
       "      <td>9.08</td>\n",
       "      <td>Low</td>\n",
       "    </tr>\n",
       "    <tr>\n",
       "      <th>503</th>\n",
       "      <td>0.06076</td>\n",
       "      <td>0.0</td>\n",
       "      <td>11.93</td>\n",
       "      <td>0</td>\n",
       "      <td>0.573</td>\n",
       "      <td>6.976</td>\n",
       "      <td>91.0</td>\n",
       "      <td>2.1675</td>\n",
       "      <td>1</td>\n",
       "      <td>273</td>\n",
       "      <td>21.0</td>\n",
       "      <td>396.90</td>\n",
       "      <td>5.64</td>\n",
       "      <td>Low</td>\n",
       "    </tr>\n",
       "    <tr>\n",
       "      <th>504</th>\n",
       "      <td>0.10959</td>\n",
       "      <td>0.0</td>\n",
       "      <td>11.93</td>\n",
       "      <td>0</td>\n",
       "      <td>0.573</td>\n",
       "      <td>6.794</td>\n",
       "      <td>89.3</td>\n",
       "      <td>2.3889</td>\n",
       "      <td>1</td>\n",
       "      <td>273</td>\n",
       "      <td>21.0</td>\n",
       "      <td>393.45</td>\n",
       "      <td>6.48</td>\n",
       "      <td>Low</td>\n",
       "    </tr>\n",
       "    <tr>\n",
       "      <th>505</th>\n",
       "      <td>0.04741</td>\n",
       "      <td>0.0</td>\n",
       "      <td>11.93</td>\n",
       "      <td>0</td>\n",
       "      <td>0.573</td>\n",
       "      <td>6.030</td>\n",
       "      <td>80.8</td>\n",
       "      <td>2.5050</td>\n",
       "      <td>1</td>\n",
       "      <td>273</td>\n",
       "      <td>21.0</td>\n",
       "      <td>396.90</td>\n",
       "      <td>7.88</td>\n",
       "      <td>Low</td>\n",
       "    </tr>\n",
       "  </tbody>\n",
       "</table>\n",
       "<p>506 rows × 14 columns</p>\n",
       "</div>"
      ],
      "text/plain": [
       "        CRIM    ZN  INDUS  CHAS    NOX     RM   AGE     DIS  RAD  TAX  \\\n",
       "0    0.00632  18.0   2.31     0  0.538  6.575  65.2  4.0900    1  296   \n",
       "1    0.02731   0.0   7.07     0  0.469  6.421  78.9  4.9671    2  242   \n",
       "2    0.02729   0.0   7.07     0  0.469  7.185  61.1  4.9671    2  242   \n",
       "3    0.03237   0.0   2.18     0  0.458  6.998  45.8  6.0622    3  222   \n",
       "4    0.06905   0.0   2.18     0  0.458  7.147  54.2  6.0622    3  222   \n",
       "..       ...   ...    ...   ...    ...    ...   ...     ...  ...  ...   \n",
       "501  0.06263   0.0  11.93     0  0.573  6.593  69.1  2.4786    1  273   \n",
       "502  0.04527   0.0  11.93     0  0.573  6.120  76.7  2.2875    1  273   \n",
       "503  0.06076   0.0  11.93     0  0.573  6.976  91.0  2.1675    1  273   \n",
       "504  0.10959   0.0  11.93     0  0.573  6.794  89.3  2.3889    1  273   \n",
       "505  0.04741   0.0  11.93     0  0.573  6.030  80.8  2.5050    1  273   \n",
       "\n",
       "     PTRATIO       B  LSTAT  MEDV  \n",
       "0       15.3  396.90   4.98   Low  \n",
       "1       17.8  396.90   9.14   Low  \n",
       "2       17.8  392.83   4.03  High  \n",
       "3       18.7  394.63   2.94  High  \n",
       "4       18.7  396.90   5.33  High  \n",
       "..       ...     ...    ...   ...  \n",
       "501     21.0  391.99   9.67   Low  \n",
       "502     21.0  396.90   9.08   Low  \n",
       "503     21.0  396.90   5.64   Low  \n",
       "504     21.0  393.45   6.48   Low  \n",
       "505     21.0  396.90   7.88   Low  \n",
       "\n",
       "[506 rows x 14 columns]"
      ]
     },
     "execution_count": 75,
     "metadata": {},
     "output_type": "execute_result"
    }
   ],
   "source": [
    "df = pd.read_csv(\n",
    "    'boston_house_prices.csv',\n",
    "    converters={\n",
    "        'MEDV':\n",
    "            lambda x: 'Low' if float(x) < 25.0 else ('High' if float(x) > 25.0 else x)\n",
    "    },\n",
    "    header=1\n",
    ")\n",
    "df['MEDV'].value_counts()\n",
    "df"
   ]
  },
  {
   "cell_type": "markdown",
   "id": "186aab39-34a3-449f-b932-4c2516107e1f",
   "metadata": {},
   "source": [
    "Как импортировать только указанные столбцы('crim' и 'medv') и только n строк из CSV-файла?"
   ]
  },
  {
   "cell_type": "code",
   "execution_count": 81,
   "id": "7ad7d9b8-2230-4f80-82de-f816bcf40305",
   "metadata": {},
   "outputs": [
    {
     "data": {
      "text/html": [
       "<div>\n",
       "<style scoped>\n",
       "    .dataframe tbody tr th:only-of-type {\n",
       "        vertical-align: middle;\n",
       "    }\n",
       "\n",
       "    .dataframe tbody tr th {\n",
       "        vertical-align: top;\n",
       "    }\n",
       "\n",
       "    .dataframe thead th {\n",
       "        text-align: right;\n",
       "    }\n",
       "</style>\n",
       "<table border=\"1\" class=\"dataframe\">\n",
       "  <thead>\n",
       "    <tr style=\"text-align: right;\">\n",
       "      <th></th>\n",
       "      <th>CRIM</th>\n",
       "      <th>MEDV</th>\n",
       "    </tr>\n",
       "  </thead>\n",
       "  <tbody>\n",
       "    <tr>\n",
       "      <th>0</th>\n",
       "      <td>0.00632</td>\n",
       "      <td>24.0</td>\n",
       "    </tr>\n",
       "    <tr>\n",
       "      <th>1</th>\n",
       "      <td>0.02731</td>\n",
       "      <td>21.6</td>\n",
       "    </tr>\n",
       "    <tr>\n",
       "      <th>2</th>\n",
       "      <td>0.02729</td>\n",
       "      <td>34.7</td>\n",
       "    </tr>\n",
       "    <tr>\n",
       "      <th>3</th>\n",
       "      <td>0.03237</td>\n",
       "      <td>33.4</td>\n",
       "    </tr>\n",
       "    <tr>\n",
       "      <th>4</th>\n",
       "      <td>0.06905</td>\n",
       "      <td>36.2</td>\n",
       "    </tr>\n",
       "    <tr>\n",
       "      <th>...</th>\n",
       "      <td>...</td>\n",
       "      <td>...</td>\n",
       "    </tr>\n",
       "    <tr>\n",
       "      <th>95</th>\n",
       "      <td>0.12204</td>\n",
       "      <td>28.4</td>\n",
       "    </tr>\n",
       "    <tr>\n",
       "      <th>96</th>\n",
       "      <td>0.11504</td>\n",
       "      <td>21.4</td>\n",
       "    </tr>\n",
       "    <tr>\n",
       "      <th>97</th>\n",
       "      <td>0.12083</td>\n",
       "      <td>38.7</td>\n",
       "    </tr>\n",
       "    <tr>\n",
       "      <th>98</th>\n",
       "      <td>0.08187</td>\n",
       "      <td>43.8</td>\n",
       "    </tr>\n",
       "    <tr>\n",
       "      <th>99</th>\n",
       "      <td>0.06860</td>\n",
       "      <td>33.2</td>\n",
       "    </tr>\n",
       "  </tbody>\n",
       "</table>\n",
       "<p>100 rows × 2 columns</p>\n",
       "</div>"
      ],
      "text/plain": [
       "       CRIM  MEDV\n",
       "0   0.00632  24.0\n",
       "1   0.02731  21.6\n",
       "2   0.02729  34.7\n",
       "3   0.03237  33.4\n",
       "4   0.06905  36.2\n",
       "..      ...   ...\n",
       "95  0.12204  28.4\n",
       "96  0.11504  21.4\n",
       "97  0.12083  38.7\n",
       "98  0.08187  43.8\n",
       "99  0.06860  33.2\n",
       "\n",
       "[100 rows x 2 columns]"
      ]
     },
     "execution_count": 81,
     "metadata": {},
     "output_type": "execute_result"
    }
   ],
   "source": [
    "select_columns = ['CRIM', 'MEDV']\n",
    "n = 100\n",
    "df = pd.read_csv('boston_house_prices.csv', \n",
    "                 usecols = select_columns,\n",
    "                 nrows = n,\n",
    "                 header=1)\n",
    "df"
   ]
  },
  {
   "cell_type": "markdown",
   "id": "bf65a140-3c3c-416f-a00c-8339bc8d8aa1",
   "metadata": {},
   "source": [
    " Проверьте есть ли в датафрейме пропуски? Если да, посчитайте кол-во nan\\none в каждом столбце датафрейма"
   ]
  },
  {
   "cell_type": "code",
   "execution_count": 85,
   "id": "dedb7442-d828-4301-8c3b-a2ae2980026b",
   "metadata": {},
   "outputs": [
    {
     "data": {
      "text/plain": [
       "Manufacturer           4\n",
       "Model                  1\n",
       "Type                   3\n",
       "Min.Price              7\n",
       "Price                  2\n",
       "Max.Price              5\n",
       "MPG.city               9\n",
       "MPG.highway            2\n",
       "AirBags               38\n",
       "DriveTrain             7\n",
       "Cylinders              5\n",
       "EngineSize             2\n",
       "Horsepower             7\n",
       "RPM                    3\n",
       "Rev.per.mile           6\n",
       "Man.trans.avail        5\n",
       "Fuel.tank.capacity     8\n",
       "Passengers             2\n",
       "Length                 4\n",
       "Wheelbase              1\n",
       "Width                  6\n",
       "Turn.circle            5\n",
       "Rear.seat.room         4\n",
       "Luggage.room          19\n",
       "Weight                 7\n",
       "Origin                 5\n",
       "Make                   3\n",
       "dtype: int64"
      ]
     },
     "execution_count": 85,
     "metadata": {},
     "output_type": "execute_result"
    }
   ],
   "source": [
    "df = pd.read_csv('https://raw.githubusercontent.com/selva86/datasets/master/Cars93_miss.csv')\n",
    "df.isna().sum()\n",
    "# df"
   ]
  },
  {
   "cell_type": "markdown",
   "id": "3d448dc6-83df-46e1-83e3-6ad7500b8bef",
   "metadata": {},
   "source": [
    "Как найти и заменить выбросы из столбца Series или датафрейма?\n",
    "\n",
    "Замените все значения из столбца ниже 5того и больше 95го персентиля, на пограничные значения."
   ]
  },
  {
   "cell_type": "code",
   "execution_count": 95,
   "id": "aacecde9-fa8b-4520-bab3-b9cbc8672269",
   "metadata": {},
   "outputs": [
    {
     "data": {
      "text/plain": [
       "0       0.010000\n",
       "1       0.013738\n",
       "2       0.018874\n",
       "3       0.025929\n",
       "4       0.035622\n",
       "5       0.048939\n",
       "6       0.067234\n",
       "7       0.092367\n",
       "8       0.126896\n",
       "9       0.174333\n",
       "10      0.239503\n",
       "11      0.329034\n",
       "12      0.452035\n",
       "13      0.621017\n",
       "14      0.853168\n",
       "15      1.172102\n",
       "16      1.610262\n",
       "17      2.212216\n",
       "18      3.039195\n",
       "19      4.175319\n",
       "20      5.736153\n",
       "21      7.880463\n",
       "22     10.826367\n",
       "23     14.873521\n",
       "24     20.433597\n",
       "25     28.072162\n",
       "26     38.566204\n",
       "27     52.983169\n",
       "28     72.789538\n",
       "29    100.000000\n",
       "dtype: float64"
      ]
     },
     "execution_count": 95,
     "metadata": {},
     "output_type": "execute_result"
    }
   ],
   "source": [
    "s = pd.Series(np.logspace(-2, 2, 30))\n",
    "s_r = s.copy()\n",
    "s"
   ]
  },
  {
   "cell_type": "code",
   "execution_count": 91,
   "id": "21a21a43-24c7-4410-a7f7-5a17d561491c",
   "metadata": {},
   "outputs": [
    {
     "data": {
      "text/plain": [
       "np.float64(63.87667222018393)"
      ]
     },
     "execution_count": 91,
     "metadata": {},
     "output_type": "execute_result"
    }
   ],
   "source": [
    "s.quantile(.1)\n",
    "s.quantile(.5)\n",
    "s.quantile(.95)"
   ]
  },
  {
   "cell_type": "code",
   "execution_count": 96,
   "id": "bda1834e-1352-4399-8213-56d2c0433221",
   "metadata": {},
   "outputs": [
    {
     "data": {
      "text/plain": [
       "0     63.866672\n",
       "1     63.862934\n",
       "2     63.857798\n",
       "3     63.850743\n",
       "4     63.841050\n",
       "5     63.827733\n",
       "6     63.809439\n",
       "7     63.784305\n",
       "8     63.749776\n",
       "9     63.702339\n",
       "10    63.637170\n",
       "11    63.547638\n",
       "12    63.424637\n",
       "13    63.255655\n",
       "14    63.023504\n",
       "15    62.704570\n",
       "16    62.266410\n",
       "17    61.664456\n",
       "18    60.837477\n",
       "19    59.701353\n",
       "20    58.140520\n",
       "21    55.996209\n",
       "22    53.050305\n",
       "23    49.003151\n",
       "24    43.443075\n",
       "25    35.804510\n",
       "26    25.310468\n",
       "27    10.893503\n",
       "28     0.000000\n",
       "29     0.000000\n",
       "dtype: float64"
      ]
     },
     "execution_count": 96,
     "metadata": {},
     "output_type": "execute_result"
    }
   ],
   "source": [
    "s[s < s.quantile(.5)] = s.quantile(.5)\n",
    "s[s < s.quantile(.95)] = s.quantile(.95)\n",
    "s - s_r"
   ]
  },
  {
   "cell_type": "markdown",
   "id": "dcfea75a-a757-418b-b2bf-afad6d59e74d",
   "metadata": {},
   "source": [
    "Как поменять местами две строки данных? "
   ]
  },
  {
   "cell_type": "code",
   "execution_count": 99,
   "id": "692643e8-5179-4455-8948-adb984d7d92d",
   "metadata": {},
   "outputs": [
    {
     "data": {
      "text/html": [
       "<div>\n",
       "<style scoped>\n",
       "    .dataframe tbody tr th:only-of-type {\n",
       "        vertical-align: middle;\n",
       "    }\n",
       "\n",
       "    .dataframe tbody tr th {\n",
       "        vertical-align: top;\n",
       "    }\n",
       "\n",
       "    .dataframe thead th {\n",
       "        text-align: right;\n",
       "    }\n",
       "</style>\n",
       "<table border=\"1\" class=\"dataframe\">\n",
       "  <thead>\n",
       "    <tr style=\"text-align: right;\">\n",
       "      <th></th>\n",
       "      <th>0</th>\n",
       "      <th>1</th>\n",
       "      <th>2</th>\n",
       "      <th>3</th>\n",
       "      <th>4</th>\n",
       "    </tr>\n",
       "  </thead>\n",
       "  <tbody>\n",
       "    <tr>\n",
       "      <th>0</th>\n",
       "      <td>0</td>\n",
       "      <td>1</td>\n",
       "      <td>2</td>\n",
       "      <td>3</td>\n",
       "      <td>4</td>\n",
       "    </tr>\n",
       "    <tr>\n",
       "      <th>1</th>\n",
       "      <td>5</td>\n",
       "      <td>6</td>\n",
       "      <td>7</td>\n",
       "      <td>8</td>\n",
       "      <td>9</td>\n",
       "    </tr>\n",
       "    <tr>\n",
       "      <th>2</th>\n",
       "      <td>10</td>\n",
       "      <td>11</td>\n",
       "      <td>12</td>\n",
       "      <td>13</td>\n",
       "      <td>14</td>\n",
       "    </tr>\n",
       "    <tr>\n",
       "      <th>3</th>\n",
       "      <td>15</td>\n",
       "      <td>16</td>\n",
       "      <td>17</td>\n",
       "      <td>18</td>\n",
       "      <td>19</td>\n",
       "    </tr>\n",
       "    <tr>\n",
       "      <th>4</th>\n",
       "      <td>20</td>\n",
       "      <td>21</td>\n",
       "      <td>22</td>\n",
       "      <td>23</td>\n",
       "      <td>24</td>\n",
       "    </tr>\n",
       "  </tbody>\n",
       "</table>\n",
       "</div>"
      ],
      "text/plain": [
       "    0   1   2   3   4\n",
       "0   0   1   2   3   4\n",
       "1   5   6   7   8   9\n",
       "2  10  11  12  13  14\n",
       "3  15  16  17  18  19\n",
       "4  20  21  22  23  24"
      ]
     },
     "execution_count": 99,
     "metadata": {},
     "output_type": "execute_result"
    }
   ],
   "source": [
    "df = pd.DataFrame(np.arange(25).reshape(5, -1))\n",
    "df"
   ]
  },
  {
   "cell_type": "code",
   "execution_count": 102,
   "id": "8543027b-8542-4280-ad1d-9fd7808b08fc",
   "metadata": {},
   "outputs": [
    {
     "data": {
      "text/html": [
       "<div>\n",
       "<style scoped>\n",
       "    .dataframe tbody tr th:only-of-type {\n",
       "        vertical-align: middle;\n",
       "    }\n",
       "\n",
       "    .dataframe tbody tr th {\n",
       "        vertical-align: top;\n",
       "    }\n",
       "\n",
       "    .dataframe thead th {\n",
       "        text-align: right;\n",
       "    }\n",
       "</style>\n",
       "<table border=\"1\" class=\"dataframe\">\n",
       "  <thead>\n",
       "    <tr style=\"text-align: right;\">\n",
       "      <th></th>\n",
       "      <th>0</th>\n",
       "      <th>1</th>\n",
       "      <th>2</th>\n",
       "      <th>3</th>\n",
       "      <th>4</th>\n",
       "    </tr>\n",
       "  </thead>\n",
       "  <tbody>\n",
       "    <tr>\n",
       "      <th>0</th>\n",
       "      <td>0</td>\n",
       "      <td>1</td>\n",
       "      <td>2</td>\n",
       "      <td>3</td>\n",
       "      <td>4</td>\n",
       "    </tr>\n",
       "    <tr>\n",
       "      <th>1</th>\n",
       "      <td>20</td>\n",
       "      <td>21</td>\n",
       "      <td>22</td>\n",
       "      <td>23</td>\n",
       "      <td>24</td>\n",
       "    </tr>\n",
       "    <tr>\n",
       "      <th>2</th>\n",
       "      <td>10</td>\n",
       "      <td>11</td>\n",
       "      <td>12</td>\n",
       "      <td>13</td>\n",
       "      <td>14</td>\n",
       "    </tr>\n",
       "    <tr>\n",
       "      <th>3</th>\n",
       "      <td>15</td>\n",
       "      <td>16</td>\n",
       "      <td>17</td>\n",
       "      <td>18</td>\n",
       "      <td>19</td>\n",
       "    </tr>\n",
       "    <tr>\n",
       "      <th>4</th>\n",
       "      <td>5</td>\n",
       "      <td>6</td>\n",
       "      <td>7</td>\n",
       "      <td>8</td>\n",
       "      <td>9</td>\n",
       "    </tr>\n",
       "  </tbody>\n",
       "</table>\n",
       "</div>"
      ],
      "text/plain": [
       "    0   1   2   3   4\n",
       "0   0   1   2   3   4\n",
       "1  20  21  22  23  24\n",
       "2  10  11  12  13  14\n",
       "3  15  16  17  18  19\n",
       "4   5   6   7   8   9"
      ]
     },
     "execution_count": 102,
     "metadata": {},
     "output_type": "execute_result"
    }
   ],
   "source": [
    "def chandeRow(frame, a: int, b: int) -> pd.DataFrame:\n",
    "    boofer = frame.iloc[b].copy()\n",
    "    frame.iloc[b] = frame.iloc[a]\n",
    "    frame.iloc[a] = boofer\n",
    "    return frame\n",
    "\n",
    "chandeRow(df, 1, 4)"
   ]
  },
  {
   "cell_type": "code",
   "execution_count": null,
   "id": "6a2d1176-36aa-43ce-9d98-0c2a25bbca5a",
   "metadata": {},
   "outputs": [],
   "source": []
  },
  {
   "cell_type": "markdown",
   "id": "b0fe420c-102a-4c93-9867-cd6db7635087",
   "metadata": {},
   "source": [
    "# ДЗ"
   ]
  },
  {
   "cell_type": "markdown",
   "id": "00ceaede-3347-424d-9110-677da72c6f61",
   "metadata": {},
   "source": [
    "### Задача 1\n",
    "У вас есть файл sales.csv, содержащий данные о продажах с колонками Дата, Продукт, Количество и Цена. Загрузите данные, почистите пропуски, посчитайте общую выручку и выведите данные только по продукту \"Телефон\"."
   ]
  },
  {
   "cell_type": "code",
   "execution_count": null,
   "id": "7f80e436-46ea-4307-8136-d9787bb6cdc2",
   "metadata": {},
   "outputs": [],
   "source": []
  },
  {
   "cell_type": "markdown",
   "id": "9f819171-c42c-4a59-81b1-3a91f7a453a3",
   "metadata": {},
   "source": [
    "### Задача 2\n",
    "2.1 Как объединить два датафрейма по двум столбцам, чтобы в них остались только общие строки?\n",
    "Сделать merge двух датафреймов по колонкам ['fruit', 'weight'] и ['pazham', 'kilo'].\n",
    "2.2 Как удалить строки из датафрейма А, которые присутствуют в датафрейме B?"
   ]
  },
  {
   "cell_type": "code",
   "execution_count": 143,
   "id": "95391521-e58b-4c75-8ee1-1b08c13e1a51",
   "metadata": {},
   "outputs": [],
   "source": [
    "# 2.1\n",
    "df1 = pd.DataFrame({'fruit': ['apple', 'banana', 'orange'] * 3,\n",
    "                    'weight': ['high', 'medium', 'low'] * 3,\n",
    "                    'price': np.random.randint(0, 15, 9)})\n",
    "\n",
    "df2 = pd.DataFrame({'pazham': ['apple', 'orange', 'pine'] * 2,\n",
    "                    'kilo': ['high', 'low'] * 3,\n",
    "                    'price': np.random.randint(0, 15, 6)})\n",
    "\n",
    "# 2.2\n",
    "df1 = pd.DataFrame({'fruit': ['apple', 'orange', 'banana'] * 3,\n",
    "                    'weight': ['high', 'medium', 'low'] * 3,\n",
    "                    'price': np.arange(9)})\n",
    "\n",
    "df2 = pd.DataFrame({'fruit': ['apple', 'orange', 'pine'] * 2,\n",
    "                    'weight': ['high', 'medium'] * 3,\n",
    "                    'price': np.arange(6)})"
   ]
  },
  {
   "cell_type": "code",
   "execution_count": 132,
   "id": "e49dfb1b-4207-4b0f-a4bb-620a43e77eb3",
   "metadata": {},
   "outputs": [],
   "source": [
    "products_df = pd.read_csv('products.csv')\n",
    "sales_df = pd.read_csv('sales.csv')"
   ]
  },
  {
   "cell_type": "markdown",
   "id": "e140f461-b94b-489d-8576-0d8fd9ba4d65",
   "metadata": {},
   "source": [
    "### Задача 3\n",
    "Каждые 30 минут получайте текущий курс валюты USD к EUR с публичного API и добавляйте данные в DataFrame с отметкой времени."
   ]
  },
  {
   "cell_type": "code",
   "execution_count": 13,
   "id": "e3e86ed6-acf7-4181-ac2c-2f7152c8443d",
   "metadata": {},
   "outputs": [],
   "source": [
    "currency_df = pd.DataFrame(columns=['Время', 'USD/EUR'])\n",
    "url = \"https://api.exchangerate-api.com/v4/latest/USD\""
   ]
  },
  {
   "cell_type": "markdown",
   "id": "9b39c66d-7093-48e1-8032-178b8ec44409",
   "metadata": {},
   "source": []
  },
  {
   "cell_type": "markdown",
   "id": "cc17a5cf-f780-42d3-b0f1-83e246ecf8f8",
   "metadata": {},
   "source": [
    "### Задача 4\n",
    "Используя API OpenWeatherMap, получите данные о погоде для города Москва. Извлеките температуру и влажность, затем сохраните их в DataFrame для дальнейшего анализа."
   ]
  },
  {
   "cell_type": "code",
   "execution_count": 14,
   "id": "64bd9153-45e4-47d1-ae55-820d5cd40246",
   "metadata": {},
   "outputs": [],
   "source": [
    "url = \"http://api.openweathermap.org/data/2.5/weather\""
   ]
  },
  {
   "cell_type": "markdown",
   "id": "7841360b-f51f-4960-b541-a29ca9af87b0",
   "metadata": {},
   "source": [
    "### Задача 5\n",
    "Отправьте запрос к API и обработайте ошибки (например, неверный API ключ или отсутсвие ответа от сервера). Если код ответа не 200, сделайте еще 3 попытки."
   ]
  },
  {
   "cell_type": "code",
   "execution_count": 15,
   "id": "a8cf103d-b04c-4310-9208-363cfd4499f8",
   "metadata": {},
   "outputs": [],
   "source": [
    "url = \"http://api.openweathermap.org/data/2.5/weather\""
   ]
  },
  {
   "cell_type": "markdown",
   "id": "f5ff27cd-4b6d-474f-b98c-785e3e15d76d",
   "metadata": {},
   "source": [
    "### Задача 6\n",
    "Как сделать stack двух series вертикально и горизонтально?"
   ]
  }
 ],
 "metadata": {
  "kernelspec": {
   "display_name": "Python 3 (ipykernel)",
   "language": "python",
   "name": "python3"
  },
  "language_info": {
   "codemirror_mode": {
    "name": "ipython",
    "version": 3
   },
   "file_extension": ".py",
   "mimetype": "text/x-python",
   "name": "python",
   "nbconvert_exporter": "python",
   "pygments_lexer": "ipython3",
   "version": "3.11.9"
  }
 },
 "nbformat": 4,
 "nbformat_minor": 5
}
