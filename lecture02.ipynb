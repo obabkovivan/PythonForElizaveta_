{
 "cells": [
  {
   "cell_type": "code",
   "execution_count": 1,
   "id": "d9192f60-2b02-4a1c-a524-288538bc8c2f",
   "metadata": {},
   "outputs": [],
   "source": [
    "num = 10  # int"
   ]
  },
  {
   "cell_type": "code",
   "execution_count": 2,
   "id": "a0601cc1-497b-4c31-a1b1-e1d0215dd549",
   "metadata": {},
   "outputs": [],
   "source": [
    "s_num = '10'  # str"
   ]
  },
  {
   "cell_type": "code",
   "execution_count": 3,
   "id": "b70a7e4b-451b-4ac6-a6a1-90e884e7d7a6",
   "metadata": {},
   "outputs": [],
   "source": [
    "n_num = int(s_num)"
   ]
  },
  {
   "cell_type": "code",
   "execution_count": 4,
   "id": "dc1afb6a-2bbc-4814-b281-06aa297c2391",
   "metadata": {},
   "outputs": [
    {
     "data": {
      "text/plain": [
       "int"
      ]
     },
     "execution_count": 4,
     "metadata": {},
     "output_type": "execute_result"
    }
   ],
   "source": [
    "type(n_num)"
   ]
  },
  {
   "cell_type": "code",
   "execution_count": 6,
   "id": "027a162e-69f4-44ff-b799-ef9da23d7874",
   "metadata": {},
   "outputs": [],
   "source": [
    "f_num = 10.12  # float"
   ]
  },
  {
   "cell_type": "code",
   "execution_count": 7,
   "id": "d1af4aa8-db9f-4a74-9b80-a57e12ea62cc",
   "metadata": {},
   "outputs": [],
   "source": [
    "num_2 = 3"
   ]
  },
  {
   "cell_type": "code",
   "execution_count": 8,
   "id": "216c346a-95bc-4428-9025-613084749a7b",
   "metadata": {},
   "outputs": [
    {
     "data": {
      "text/plain": [
       "13"
      ]
     },
     "execution_count": 8,
     "metadata": {},
     "output_type": "execute_result"
    }
   ],
   "source": [
    "num + num_2"
   ]
  },
  {
   "cell_type": "code",
   "execution_count": 9,
   "id": "bfb28404-7b2b-4fe3-9bae-ce5e21aa2384",
   "metadata": {},
   "outputs": [
    {
     "data": {
      "text/plain": [
       "7"
      ]
     },
     "execution_count": 9,
     "metadata": {},
     "output_type": "execute_result"
    }
   ],
   "source": [
    "num - num_2"
   ]
  },
  {
   "cell_type": "code",
   "execution_count": 12,
   "id": "841d4d19-421c-456f-8c44-f96580ca1787",
   "metadata": {},
   "outputs": [
    {
     "data": {
      "text/plain": [
       "3.3333333333333335"
      ]
     },
     "execution_count": 12,
     "metadata": {},
     "output_type": "execute_result"
    }
   ],
   "source": [
    "num / num_2 # -> float"
   ]
  },
  {
   "cell_type": "code",
   "execution_count": 13,
   "id": "1933e78b-d68f-481c-9716-cc525b35b1c6",
   "metadata": {},
   "outputs": [
    {
     "data": {
      "text/plain": [
       "5.0"
      ]
     },
     "execution_count": 13,
     "metadata": {},
     "output_type": "execute_result"
    }
   ],
   "source": [
    "10 / 2 # -> float"
   ]
  },
  {
   "cell_type": "code",
   "execution_count": 15,
   "id": "4b58eb1d-f3b1-44e6-a7e7-ec41ca442d57",
   "metadata": {},
   "outputs": [
    {
     "data": {
      "text/plain": [
       "30"
      ]
     },
     "execution_count": 15,
     "metadata": {},
     "output_type": "execute_result"
    }
   ],
   "source": [
    "num * num_2"
   ]
  },
  {
   "cell_type": "code",
   "execution_count": 16,
   "id": "4f22cf09-48b3-40b6-aa50-b55958b78e44",
   "metadata": {},
   "outputs": [
    {
     "data": {
      "text/plain": [
       "1000"
      ]
     },
     "execution_count": 16,
     "metadata": {},
     "output_type": "execute_result"
    }
   ],
   "source": [
    "num ** num_2"
   ]
  },
  {
   "cell_type": "code",
   "execution_count": 17,
   "id": "0ea5178d-fac8-4140-b46f-207665e271d9",
   "metadata": {},
   "outputs": [
    {
     "data": {
      "text/plain": [
       "3"
      ]
     },
     "execution_count": 17,
     "metadata": {},
     "output_type": "execute_result"
    }
   ],
   "source": [
    "num // num_2  # деление без остатка"
   ]
  },
  {
   "cell_type": "code",
   "execution_count": 19,
   "id": "efcbe2cf-6a17-4a15-8459-4373ed0b1445",
   "metadata": {},
   "outputs": [
    {
     "data": {
      "text/plain": [
       "0"
      ]
     },
     "execution_count": 19,
     "metadata": {},
     "output_type": "execute_result"
    }
   ],
   "source": [
    "2 // 3"
   ]
  },
  {
   "cell_type": "code",
   "execution_count": 21,
   "id": "94589a47-791e-4174-86a0-b300c5a0cb7e",
   "metadata": {},
   "outputs": [
    {
     "data": {
      "text/plain": [
       "1"
      ]
     },
     "execution_count": 21,
     "metadata": {},
     "output_type": "execute_result"
    }
   ],
   "source": [
    "num % num_2 # остаток от деления"
   ]
  },
  {
   "cell_type": "code",
   "execution_count": 22,
   "id": "31913317-11a8-4ccf-9fdf-e4337e74d5cf",
   "metadata": {},
   "outputs": [],
   "source": [
    "my_string = 'Hello world!'"
   ]
  },
  {
   "cell_type": "code",
   "execution_count": 56,
   "id": "21bd5270-5c92-41d0-bf1b-4992b3585b83",
   "metadata": {},
   "outputs": [],
   "source": [
    "my_string_2 = 'Python!'\n",
    "s_empty = ''"
   ]
  },
  {
   "cell_type": "code",
   "execution_count": 25,
   "id": "7ddc9183-f152-4a36-9d8c-fc86319b9965",
   "metadata": {},
   "outputs": [
    {
     "data": {
      "text/plain": [
       "'Hello world!Python!'"
      ]
     },
     "execution_count": 25,
     "metadata": {},
     "output_type": "execute_result"
    }
   ],
   "source": [
    "my_string + my_string_2  # конкатенация строк"
   ]
  },
  {
   "cell_type": "code",
   "execution_count": 31,
   "id": "133b9508-54bd-4334-a0ef-c402ce125fe8",
   "metadata": {},
   "outputs": [
    {
     "name": "stdin",
     "output_type": "stream",
     "text": [
      "Введите имя Liza\n"
     ]
    },
    {
     "name": "stdout",
     "output_type": "stream",
     "text": [
      "Добро пожаловать, Liza\n"
     ]
    }
   ],
   "source": [
    "name = input('Введите имя')\n",
    "welcome = 'Добро пожаловать,'\n",
    "print(welcome + ' ' + name)"
   ]
  },
  {
   "cell_type": "code",
   "execution_count": 58,
   "id": "e2a0c667-90a8-495b-9c81-c4f931831976",
   "metadata": {},
   "outputs": [
    {
     "data": {
      "text/plain": [
       "[]"
      ]
     },
     "execution_count": 58,
     "metadata": {},
     "output_type": "execute_result"
    }
   ],
   "source": [
    "my_list = [1, 2, 3]\n",
    "my_list_2 = list('123')\n",
    "l_empty = []\n",
    "l_empty"
   ]
  },
  {
   "cell_type": "code",
   "execution_count": 37,
   "id": "67434565-08f6-4425-adcc-dd24c37672f2",
   "metadata": {},
   "outputs": [
    {
     "data": {
      "text/plain": [
       "['1', '2', '3']"
      ]
     },
     "execution_count": 37,
     "metadata": {},
     "output_type": "execute_result"
    }
   ],
   "source": [
    "my_list_2"
   ]
  },
  {
   "cell_type": "code",
   "execution_count": 62,
   "id": "0673ec41-4cf4-4f91-8a9f-ccbab5a007de",
   "metadata": {},
   "outputs": [
    {
     "data": {
      "text/plain": [
       "(1,)"
      ]
     },
     "execution_count": 62,
     "metadata": {},
     "output_type": "execute_result"
    }
   ],
   "source": [
    "my_tuple = (1, 2, 3)\n",
    "my_tuple_2 = tuple([1, 2, 3])\n",
    "my_tuple = (1,)\n",
    "my_tuple"
   ]
  },
  {
   "cell_type": "code",
   "execution_count": 44,
   "id": "88b35d27-58c1-4692-8f79-e9e3e2dbccf4",
   "metadata": {},
   "outputs": [
    {
     "data": {
      "text/plain": [
       "(1, 2, 3)"
      ]
     },
     "execution_count": 44,
     "metadata": {},
     "output_type": "execute_result"
    }
   ],
   "source": [
    "my_tuple_2"
   ]
  },
  {
   "cell_type": "code",
   "execution_count": 66,
   "id": "2f4bf210-c204-4a3f-9f45-a5c47a3e4148",
   "metadata": {},
   "outputs": [
    {
     "data": {
      "text/plain": [
       "set()"
      ]
     },
     "execution_count": 66,
     "metadata": {},
     "output_type": "execute_result"
    }
   ],
   "source": [
    "my_set = set('hello')\n",
    "my_set2 = {1, 2, 2, 3}\n",
    "s_empty = set()\n",
    "s_empty"
   ]
  },
  {
   "cell_type": "code",
   "execution_count": 54,
   "id": "1f8e93b4-fd7b-4750-90ad-7c467ef84f65",
   "metadata": {},
   "outputs": [
    {
     "data": {
      "text/plain": [
       "{1, 2, 3}"
      ]
     },
     "execution_count": 54,
     "metadata": {},
     "output_type": "execute_result"
    }
   ],
   "source": [
    "my_set2"
   ]
  },
  {
   "cell_type": "code",
   "execution_count": 64,
   "id": "d7f9fa60-5ce0-40a9-aef0-308228bbc0ab",
   "metadata": {},
   "outputs": [
    {
     "data": {
      "text/plain": [
       "dict"
      ]
     },
     "execution_count": 64,
     "metadata": {},
     "output_type": "execute_result"
    }
   ],
   "source": [
    "a = {}\n",
    "type(a)"
   ]
  },
  {
   "cell_type": "code",
   "execution_count": 71,
   "id": "5fa49f80-04ed-440f-9b9f-eea7a17c39b4",
   "metadata": {},
   "outputs": [],
   "source": [
    "f_s = frozenset('123')\n",
    "s = set('123')"
   ]
  },
  {
   "cell_type": "code",
   "execution_count": 75,
   "id": "77d9063c-1098-489a-8bed-61d39445e9fd",
   "metadata": {},
   "outputs": [
    {
     "data": {
      "text/plain": [
       "{'1', '2', '3', '4', '5', '6', '7'}"
      ]
     },
     "execution_count": 75,
     "metadata": {},
     "output_type": "execute_result"
    }
   ],
   "source": [
    "s.update(set('3457'))\n",
    "s"
   ]
  },
  {
   "cell_type": "code",
   "execution_count": 77,
   "id": "19a0ac00-6299-48dd-b968-ad477d173de5",
   "metadata": {},
   "outputs": [
    {
     "ename": "AttributeError",
     "evalue": "'frozenset' object has no attribute 'update'",
     "output_type": "error",
     "traceback": [
      "\u001b[0;31m---------------------------------------------------------------------------\u001b[0m",
      "\u001b[0;31mAttributeError\u001b[0m                            Traceback (most recent call last)",
      "Cell \u001b[0;32mIn[77], line 1\u001b[0m\n\u001b[0;32m----> 1\u001b[0m \u001b[43mf_s\u001b[49m\u001b[38;5;241;43m.\u001b[39;49m\u001b[43mupdate\u001b[49m(\u001b[38;5;28mset\u001b[39m(\u001b[38;5;124m'\u001b[39m\u001b[38;5;124m345\u001b[39m\u001b[38;5;124m'\u001b[39m))\n",
      "\u001b[0;31mAttributeError\u001b[0m: 'frozenset' object has no attribute 'update'"
     ]
    }
   ],
   "source": [
    "f_s.update(set('345'))"
   ]
  },
  {
   "cell_type": "code",
   "execution_count": 88,
   "id": "fa51b32d-1885-4ae3-b076-b4bada9292e1",
   "metadata": {},
   "outputs": [
    {
     "data": {
      "text/plain": [
       "{'q': 100, 'w': 100, 'e': 100}"
      ]
     },
     "execution_count": 88,
     "metadata": {},
     "output_type": "execute_result"
    }
   ],
   "source": [
    "m_d = {'qwe': '123'}\n",
    "m_d_2 = dict(l = 123)\n",
    "m_d_3 = dict([(3, 5), (1, 2)])\n",
    "m_d_4 = dict.fromkeys(['q', 'w', 'e'], 100)\n",
    "m_d_4"
   ]
  },
  {
   "cell_type": "code",
   "execution_count": 101,
   "id": "5d4ca1db-2517-4af5-8e08-7536ecc094e1",
   "metadata": {},
   "outputs": [],
   "source": [
    "my_string = 'Python!   '"
   ]
  },
  {
   "cell_type": "code",
   "execution_count": 92,
   "id": "c6c06df0-98d6-4b3f-a3b1-e0fb529f0efd",
   "metadata": {},
   "outputs": [
    {
     "name": "stdout",
     "output_type": "stream",
     "text": [
      "Python!Python!Python!\n"
     ]
    }
   ],
   "source": [
    "print(my_string * 3)"
   ]
  },
  {
   "cell_type": "code",
   "execution_count": 94,
   "id": "69e0f2f4-963d-4ef0-b328-0c834df8ae43",
   "metadata": {},
   "outputs": [
    {
     "data": {
      "text/plain": [
       "7"
      ]
     },
     "execution_count": 94,
     "metadata": {},
     "output_type": "execute_result"
    }
   ],
   "source": [
    "len(my_strin)"
   ]
  },
  {
   "cell_type": "code",
   "execution_count": 98,
   "id": "be46667a-eab9-4a4e-bf8c-6f4307ad01f0",
   "metadata": {},
   "outputs": [
    {
     "data": {
      "text/plain": [
       "'!'"
      ]
     },
     "execution_count": 98,
     "metadata": {},
     "output_type": "execute_result"
    }
   ],
   "source": [
    "my_string[0]\n",
    "my_string[0:2]\n",
    "my_string[-1]"
   ]
  },
  {
   "cell_type": "code",
   "execution_count": 109,
   "id": "2e6d0451-6a69-4afd-bfed-6ea3db7ae8ce",
   "metadata": {},
   "outputs": [
    {
     "data": {
      "text/plain": [
       "'Python!'"
      ]
     },
     "execution_count": 109,
     "metadata": {},
     "output_type": "execute_result"
    }
   ],
   "source": [
    "my_string.lower()\n",
    "my_string.upper()\n",
    "my_string.rstrip()"
   ]
  },
  {
   "cell_type": "code",
   "execution_count": 114,
   "id": "9a3ac942-bc6a-490f-acf6-8e6040d0550f",
   "metadata": {},
   "outputs": [
    {
     "data": {
      "text/plain": [
       "True"
      ]
     },
     "execution_count": 114,
     "metadata": {},
     "output_type": "execute_result"
    }
   ],
   "source": [
    "a = '123'\n",
    "a.isdigit()"
   ]
  },
  {
   "cell_type": "code",
   "execution_count": 115,
   "id": "93bd7aae-0875-4f3f-b3e6-f4ee6db9e82a",
   "metadata": {},
   "outputs": [
    {
     "ename": "ValueError",
     "evalue": "invalid literal for int() with base 10: '123a'",
     "output_type": "error",
     "traceback": [
      "\u001b[0;31m---------------------------------------------------------------------------\u001b[0m",
      "\u001b[0;31mValueError\u001b[0m                                Traceback (most recent call last)",
      "Cell \u001b[0;32mIn[115], line 1\u001b[0m\n\u001b[0;32m----> 1\u001b[0m \u001b[38;5;28;43mint\u001b[39;49m\u001b[43m(\u001b[49m\u001b[38;5;124;43m'\u001b[39;49m\u001b[38;5;124;43m123a\u001b[39;49m\u001b[38;5;124;43m'\u001b[39;49m\u001b[43m)\u001b[49m\n",
      "\u001b[0;31mValueError\u001b[0m: invalid literal for int() with base 10: '123a'"
     ]
    }
   ],
   "source": [
    "int('123a')"
   ]
  },
  {
   "cell_type": "code",
   "execution_count": 118,
   "id": "c4e7b94f-7834-4f05-a1d0-e88255cd7dc0",
   "metadata": {},
   "outputs": [
    {
     "data": {
      "text/plain": [
       "[1, 2, 3]"
      ]
     },
     "execution_count": 118,
     "metadata": {},
     "output_type": "execute_result"
    }
   ],
   "source": [
    "a = [1, 2, 3, 4]\n",
    "last_el = a.pop()\n",
    "last_el\n"
   ]
  },
  {
   "cell_type": "code",
   "execution_count": 120,
   "id": "171ff418-e9d1-4d66-b638-9eb82f5d9815",
   "metadata": {},
   "outputs": [
    {
     "data": {
      "text/plain": [
       "[1, 2, 3, 4, 4]"
      ]
     },
     "execution_count": 120,
     "metadata": {},
     "output_type": "execute_result"
    }
   ],
   "source": [
    "a.append(4)\n",
    "a"
   ]
  },
  {
   "cell_type": "code",
   "execution_count": 123,
   "id": "9f549d0d-6d7e-4814-a739-1eddb6984c57",
   "metadata": {},
   "outputs": [
    {
     "data": {
      "text/plain": [
       "[1, 2, 2, 3, 5]"
      ]
     },
     "execution_count": 123,
     "metadata": {},
     "output_type": "execute_result"
    }
   ],
   "source": [
    "numbers = [3, 2, 1, 5, 2]\n",
    "numbers.sort()\n",
    "numbers"
   ]
  },
  {
   "cell_type": "code",
   "execution_count": 125,
   "id": "6600e8e0-f899-424f-8f61-f9049d9cc8bf",
   "metadata": {},
   "outputs": [],
   "source": [
    "person = {'name': 'Liza', 'age': 7, 'home': None}"
   ]
  },
  {
   "cell_type": "code",
   "execution_count": 134,
   "id": "56ae6328-e406-4db9-824a-6f15da3c0ba1",
   "metadata": {},
   "outputs": [
    {
     "ename": "KeyError",
     "evalue": "'home'",
     "output_type": "error",
     "traceback": [
      "\u001b[0;31m---------------------------------------------------------------------------\u001b[0m",
      "\u001b[0;31mKeyError\u001b[0m                                  Traceback (most recent call last)",
      "Cell \u001b[0;32mIn[134], line 2\u001b[0m\n\u001b[1;32m      1\u001b[0m person\u001b[38;5;241m.\u001b[39mget(\u001b[38;5;124m'\u001b[39m\u001b[38;5;124mhome\u001b[39m\u001b[38;5;124m'\u001b[39m)\n\u001b[0;32m----> 2\u001b[0m \u001b[43mperson\u001b[49m\u001b[43m[\u001b[49m\u001b[38;5;124;43m'\u001b[39;49m\u001b[38;5;124;43mhome\u001b[39;49m\u001b[38;5;124;43m'\u001b[39;49m\u001b[43m]\u001b[49m\n",
      "\u001b[0;31mKeyError\u001b[0m: 'home'"
     ]
    }
   ],
   "source": [
    "person.get('home')\n",
    "person['home']"
   ]
  },
  {
   "cell_type": "code",
   "execution_count": 135,
   "id": "4369c71c-e798-4a3e-9653-c40dcc789629",
   "metadata": {},
   "outputs": [
    {
     "data": {
      "text/plain": [
       "dict_items([('name', 'Liza'), ('age', 7)])"
      ]
     },
     "execution_count": 135,
     "metadata": {},
     "output_type": "execute_result"
    }
   ],
   "source": [
    "person.items()"
   ]
  },
  {
   "cell_type": "markdown",
   "id": "ec520656-a7b8-49a6-bb4c-68f39f5f0578",
   "metadata": {},
   "source": [
    "### Логические операции"
   ]
  },
  {
   "cell_type": "code",
   "execution_count": 137,
   "id": "7262a065-81e1-4c48-9f9a-e657c2a40b18",
   "metadata": {},
   "outputs": [
    {
     "name": "stdout",
     "output_type": "stream",
     "text": [
      "False\n",
      "True\n",
      "False\n"
     ]
    }
   ],
   "source": [
    "a = True\n",
    "b = False\n",
    "print(a and b)\n",
    "print(a or b)\n",
    "print(not a)"
   ]
  },
  {
   "cell_type": "code",
   "execution_count": 140,
   "id": "a52acb1d-e268-412c-b80c-fc3d607cc1b9",
   "metadata": {},
   "outputs": [
    {
     "data": {
      "text/plain": [
       "False"
      ]
     },
     "execution_count": 140,
     "metadata": {},
     "output_type": "execute_result"
    }
   ],
   "source": [
    "r = not (True or False and True)\n",
    "r"
   ]
  },
  {
   "cell_type": "code",
   "execution_count": 143,
   "id": "b2549abf-a0ac-4051-b246-d831cddacf1b",
   "metadata": {},
   "outputs": [
    {
     "name": "stdout",
     "output_type": "stream",
     "text": [
      "True\n",
      "True\n"
     ]
    }
   ],
   "source": [
    "x = 10\n",
    "print(5 < x < 20)\n",
    "print(x > 5 and x < 20)"
   ]
  },
  {
   "cell_type": "markdown",
   "id": "cab6d804-9b0e-464c-a97d-f29250855774",
   "metadata": {},
   "source": [
    "### if elif else"
   ]
  },
  {
   "cell_type": "code",
   "execution_count": 147,
   "id": "9a87fc00-bcb7-4d25-9099-7bcbdbc8f2b1",
   "metadata": {},
   "outputs": [
    {
     "name": "stdout",
     "output_type": "stream",
     "text": [
      "x больше 5\n"
     ]
    }
   ],
   "source": [
    "x = 10\n",
    "if x > 5:\n",
    "    print('x больше 5')"
   ]
  },
  {
   "cell_type": "code",
   "execution_count": 150,
   "id": "aa2ec890-2e86-4162-96d9-78ec49bf48c7",
   "metadata": {},
   "outputs": [
    {
     "name": "stdin",
     "output_type": "stream",
     "text": [
      "Age:  123\n"
     ]
    },
    {
     "name": "stdout",
     "output_type": "stream",
     "text": [
      "Old\n"
     ]
    }
   ],
   "source": [
    "age = int(input('Age: '))\n",
    "if age < 13:\n",
    "    print('Child')\n",
    "elif age >= 13 and age < 18:\n",
    "    print('Teenager')\n",
    "elif 18 <= age < 70:\n",
    "    print('Adult')\n",
    "else:\n",
    "    print('Old')\n",
    "    "
   ]
  },
  {
   "cell_type": "code",
   "execution_count": 152,
   "id": "4d0413ec-f636-4ffb-97b9-76e3f24d147d",
   "metadata": {},
   "outputs": [
    {
     "name": "stdout",
     "output_type": "stream",
     "text": [
      "x находится между 5 и 10\n"
     ]
    }
   ],
   "source": [
    "x = 7\n",
    "if x > 5:\n",
    "    if x < 10:\n",
    "        print('x находится между 5 и 10')"
   ]
  },
  {
   "cell_type": "code",
   "execution_count": null,
   "id": "722f186b-46f5-4aa2-8651-f2ff93f9cab2",
   "metadata": {},
   "outputs": [],
   "source": []
  },
  {
   "cell_type": "code",
   "execution_count": null,
   "id": "48fdcd32-75a4-4237-89fa-54fa5435909a",
   "metadata": {},
   "outputs": [],
   "source": []
  }
 ],
 "metadata": {
  "kernelspec": {
   "display_name": "Python 3 (ipykernel)",
   "language": "python",
   "name": "python3"
  },
  "language_info": {
   "codemirror_mode": {
    "name": "ipython",
    "version": 3
   },
   "file_extension": ".py",
   "mimetype": "text/x-python",
   "name": "python",
   "nbconvert_exporter": "python",
   "pygments_lexer": "ipython3",
   "version": "3.11.9"
  }
 },
 "nbformat": 4,
 "nbformat_minor": 5
}
