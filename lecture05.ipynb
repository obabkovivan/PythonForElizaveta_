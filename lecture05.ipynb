{
 "cells": [
  {
   "cell_type": "code",
   "execution_count": 5,
   "id": "3248d5ce-cc20-4bfe-b645-d78fd2ba7dbb",
   "metadata": {},
   "outputs": [],
   "source": [
    "def decorator(func):\n",
    "    def wrapper():\n",
    "        print('Что-то происходит перед func')\n",
    "        func()\n",
    "        print('Что-то происходит после func')\n",
    "    return wrapper\n",
    "\n",
    "# def say_hello():\n",
    "#     print('Привет!')\n",
    "\n",
    "@decorator\n",
    "def say_hello():\n",
    "    print('Привет!')"
   ]
  },
  {
   "cell_type": "code",
   "execution_count": 6,
   "id": "bf2d1a27-f868-4036-aced-94b489594681",
   "metadata": {},
   "outputs": [
    {
     "name": "stdout",
     "output_type": "stream",
     "text": [
      "Что-то происходит перед func\n",
      "Привет!\n",
      "Что-то происходит после func\n"
     ]
    }
   ],
   "source": [
    "say_hello()"
   ]
  },
  {
   "cell_type": "code",
   "execution_count": 9,
   "id": "2320e285-c1c1-4cb0-8d81-3e4773edd8d2",
   "metadata": {},
   "outputs": [],
   "source": [
    "def decorator(func):\n",
    "    def wrapper(*args, **kwargs):\n",
    "        print('Что-то происходит перед func')\n",
    "        func(*args, **kwargs)\n",
    "        print('Что-то происходит после func')\n",
    "    return wrapper\n",
    "\n",
    "@decorator()\n",
    "def summa(a, b):\n",
    "    print(a + b)\n"
   ]
  },
  {
   "cell_type": "code",
   "execution_count": 11,
   "id": "cb8c0b65-a51a-42f3-84a0-674665c25057",
   "metadata": {},
   "outputs": [
    {
     "name": "stdout",
     "output_type": "stream",
     "text": [
      "Что-то происходит перед func\n",
      "5\n",
      "Что-то происходит после func\n"
     ]
    }
   ],
   "source": [
    "summa(2, 3)"
   ]
  },
  {
   "cell_type": "code",
   "execution_count": 15,
   "id": "4f0bd52a-b5a8-4b6e-bd21-3b5a90388dc6",
   "metadata": {},
   "outputs": [],
   "source": [
    "def repeat(count):\n",
    "    def decorator(func):\n",
    "        def wrapper():\n",
    "            for i in range(count):\n",
    "                func()\n",
    "        return wrapper\n",
    "    return decorator\n",
    "\n",
    "\n",
    "@repeat(count=3)\n",
    "def say_hello():\n",
    "    print('Привет!')"
   ]
  },
  {
   "cell_type": "code",
   "execution_count": 16,
   "id": "9b12d7cb-6086-44eb-9a64-712bbbd0c86a",
   "metadata": {},
   "outputs": [
    {
     "name": "stdout",
     "output_type": "stream",
     "text": [
      "Привет!\n",
      "Привет!\n",
      "Привет!\n"
     ]
    }
   ],
   "source": [
    "say_hello()"
   ]
  },
  {
   "cell_type": "code",
   "execution_count": 36,
   "id": "9148ec3b-57e0-4ab8-bbdc-fcb37a025533",
   "metadata": {
    "scrolled": true
   },
   "outputs": [
    {
     "name": "stdout",
     "output_type": "stream",
     "text": [
      "const dns = require('dns');\n",
      "const promises = [];\n",
      "\n",
      "const chars = 'abcdefghijklmnopqrstuvwxyz';\n",
      "\n",
      "function generateSubdomains(length) {\n",
      "    let subdomains = [];\n",
      "    \n",
      "    function generate(current, depth) {\n",
      "        if (depth === 0) {\n",
      "            subdomains.push(current);\n",
      "            return;\n",
      "        }\n",
      "        for (let i = 0; i < chars.length; i++) {\n",
      "            generate(current + chars[i], depth - 1);\n",
      "        }\n",
      "    }\n",
      "\n",
      "    generate('', length);\n",
      "    return subdomains;\n",
      "}\n",
      "\n",
      "const length = 4;\n",
      "const subdomains = generateSubdomains(length);\n",
      "\n",
      "subdomains.forEach((subdomain) => {\n",
      "    promises.push(\n",
      "        new Promise((resolve) => {\n",
      "            dns.resolve(`${subdomain}.foxford.ru`, (err, ip) => {\n",
      "                if (err) {\n",
      "                    return resolve(null);\n",
      "                }\n",
      "                return resolve({ subdomain: subdomain, ip: ip });\n",
      "            });\n",
      "        })\n",
      "    );\n",
      "});\n",
      "\n",
      "Promise.all(promises).then(function (results) {\n",
      "    results.forEach((result) => {\n",
      "        if (result && result.ip) {\n",
      "            console.log(result);\n",
      "        }\n",
      "    });\n",
      "});\n",
      "\n",
      "\n"
     ]
    }
   ],
   "source": [
    "file = open('subs.js', 'r')\n",
    "a = file.read()\n",
    "print(a)\n",
    "file.close()"
   ]
  },
  {
   "cell_type": "code",
   "execution_count": 22,
   "id": "9302edb0-793c-464f-a13c-998279b596bf",
   "metadata": {
    "scrolled": true
   },
   "outputs": [
    {
     "name": "stdout",
     "output_type": "stream",
     "text": [
      "const dns = require('dns');\n",
      "const promises = [];\n",
      "\n",
      "const chars = 'abcdefghijklmnopqrstuvwxyz';\n",
      "\n",
      "function generateSubdomains(length) {\n",
      "    let subdomains = [];\n",
      "    \n",
      "    function generate(current, depth) {\n",
      "        if (depth === 0) {\n",
      "            subdomains.push(current);\n",
      "            return;\n",
      "        }\n",
      "        for (let i = 0; i < chars.length; i++) {\n",
      "            generate(current + chars[i], depth - 1);\n",
      "        }\n",
      "    }\n",
      "\n",
      "    generate('', length);\n",
      "    return subdomains;\n",
      "}\n",
      "\n",
      "const length = 4;\n",
      "const subdomains = generateSubdomains(length);\n",
      "\n",
      "subdomains.forEach((subdomain) => {\n",
      "    promises.push(\n",
      "        new Promise((resolve) => {\n",
      "            dns.resolve(`${subdomain}.foxford.ru`, (err, ip) => {\n",
      "                if (err) {\n",
      "                    return resolve(null);\n",
      "                }\n",
      "                return resolve({ subdomain: subdomain, ip: ip });\n",
      "            });\n",
      "        })\n",
      "    );\n",
      "});\n",
      "\n",
      "Promise.all(promises).then(function (results) {\n",
      "    results.forEach((result) => {\n",
      "        if (result && result.ip) {\n",
      "            console.log(result);\n",
      "        }\n",
      "    });\n",
      "});\n",
      "\n",
      "\n"
     ]
    }
   ],
   "source": [
    "with open('subs.js', 'r') as file:\n",
    "    a = file.read()\n",
    "    print(a)"
   ]
  },
  {
   "cell_type": "code",
   "execution_count": 23,
   "id": "1ecb0038-cc45-4623-afc2-85941f3a66de",
   "metadata": {},
   "outputs": [],
   "source": [
    "from contextlib import contextmanager"
   ]
  },
  {
   "cell_type": "code",
   "execution_count": 25,
   "id": "55416a04-f514-419b-8bce-ca77aa2b0759",
   "metadata": {},
   "outputs": [
    {
     "name": "stdout",
     "output_type": "stream",
     "text": [
      "Входим в контекст\n",
      "Работа в контексте\n",
      "Выходим из контекста\n"
     ]
    }
   ],
   "source": [
    "@contextmanager\n",
    "def my_context():\n",
    "    print('Входим в контекст')  # __enter__\n",
    "    yield\n",
    "    print('Выходим из контекста')  # __exit__\n",
    "\n",
    "with my_context():\n",
    "    print('Работа в контексте')"
   ]
  },
  {
   "cell_type": "code",
   "execution_count": 35,
   "id": "6ede9ea6-1c64-4733-a8ed-a070d7e0737f",
   "metadata": {},
   "outputs": [
    {
     "name": "stdin",
     "output_type": "stream",
     "text": [
      "Введите число фцуйу\n"
     ]
    },
    {
     "name": "stdout",
     "output_type": "stream",
     "text": [
      "Вы ввели не число!\n",
      "Завершение работы!\n"
     ]
    }
   ],
   "source": [
    "try:\n",
    "    num = int(input('Введите число'))\n",
    "    result = 10 / num\n",
    "except ValueError:\n",
    "    print('Вы ввели не число!')\n",
    "except ZeroDivisionError:\n",
    "    print('На ноль делить нельзя!')\n",
    "else:\n",
    "    print(f'Результат: {int(result)}')\n",
    "finally:\n",
    "    print('Завершение работы!')"
   ]
  },
  {
   "cell_type": "code",
   "execution_count": 39,
   "id": "642aa3db-bed4-4bc6-9cd7-09e8707da54c",
   "metadata": {},
   "outputs": [
    {
     "name": "stdout",
     "output_type": "stream",
     "text": [
      "Программа работает\n",
      "Что-то пошло не так\n"
     ]
    }
   ],
   "source": [
    "class MyException(Exception):\n",
    "    pass\n",
    "\n",
    "def my_func():\n",
    "    print('Программа работает')\n",
    "    raise MyException('Что-то пошло не так')\n",
    "\n",
    "try:\n",
    "    my_func()\n",
    "except MyException as e:\n",
    "    print(e)"
   ]
  },
  {
   "cell_type": "code",
   "execution_count": 44,
   "id": "67635351-655f-4e70-8769-4657f4eece83",
   "metadata": {},
   "outputs": [
    {
     "name": "stdout",
     "output_type": "stream",
     "text": [
      "Файл закрыт\n"
     ]
    }
   ],
   "source": [
    "try:\n",
    "    file = open('test.txt', 'w')\n",
    "    file.write('Привет, мир!')\n",
    "except IOError:\n",
    "    print('Ошибка при работе с файлом.')\n",
    "finally:\n",
    "    file.close()\n",
    "    print('Файл закрыт')"
   ]
  },
  {
   "cell_type": "code",
   "execution_count": 46,
   "id": "4334b06f-8953-4186-ace8-1d440d317134",
   "metadata": {},
   "outputs": [],
   "source": [
    "import time"
   ]
  },
  {
   "cell_type": "code",
   "execution_count": 47,
   "id": "5637e96e-ed1d-4bc7-8d34-16fe9c4668a6",
   "metadata": {},
   "outputs": [
    {
     "data": {
      "text/plain": [
       "1727962295.907545"
      ]
     },
     "execution_count": 47,
     "metadata": {},
     "output_type": "execute_result"
    }
   ],
   "source": [
    "time.time()"
   ]
  },
  {
   "cell_type": "code",
   "execution_count": 49,
   "id": "4285c781-0e49-48db-9f32-370c8fd6fa8f",
   "metadata": {},
   "outputs": [
    {
     "name": "stdout",
     "output_type": "stream",
     "text": [
      "1\n",
      "2\n"
     ]
    }
   ],
   "source": [
    "print(1)\n",
    "time.sleep(3)\n",
    "print(2)"
   ]
  },
  {
   "cell_type": "code",
   "execution_count": 53,
   "id": "724caea2-99e3-4e76-b605-df864fdb33ab",
   "metadata": {},
   "outputs": [],
   "source": [
    "def decorator(func):\n",
    "    def wrapper():\n",
    "        time_start = time.time()\n",
    "        func()\n",
    "        time_end = time.time()\n",
    "        print(time_end - time_start)\n",
    "    return wrapper\n",
    "    \n",
    "\n",
    "@decorator\n",
    "def timer():\n",
    "    print('Поставлен таймер на 5 секунд')\n",
    "    time.sleep(5)\n",
    "    print('Таймер завершен')"
   ]
  },
  {
   "cell_type": "code",
   "execution_count": 54,
   "id": "47ac5163-a740-46ec-8608-51eb04137e0f",
   "metadata": {},
   "outputs": [
    {
     "name": "stdout",
     "output_type": "stream",
     "text": [
      "Поставлен таймер на 5 секунд\n",
      "Таймер завершен\n",
      "5.0056328773498535\n"
     ]
    }
   ],
   "source": [
    "timer()"
   ]
  },
  {
   "cell_type": "code",
   "execution_count": 59,
   "id": "6381d976-aa62-46ef-ac4f-048316cb304e",
   "metadata": {},
   "outputs": [
    {
     "name": "stdout",
     "output_type": "stream",
     "text": [
      "Делить на 0 нельзя!\n",
      "Неправильные данные: unsupported operand type(s) for /: 'int' and 'str'\n"
     ]
    }
   ],
   "source": [
    "def div_nums(a, b):\n",
    "    try:\n",
    "        c = a / b\n",
    "        print(c)\n",
    "    except ZeroDivisionError:\n",
    "        print('Делить на 0 нельзя!')\n",
    "    except TypeError as e:\n",
    "        print(f'Неправильные данные: {e}')\n",
    "    \n",
    "\n",
    "div_nums(1, 0)\n",
    "div_nums(1, 'hello')"
   ]
  },
  {
   "cell_type": "code",
   "execution_count": 69,
   "id": "73847787-80d9-4db0-8918-d40c6d5dab0e",
   "metadata": {},
   "outputs": [],
   "source": [
    "def div_decorator(func):\n",
    "    def wrapper(*args, **kwargs):\n",
    "        try:\n",
    "            res = func(*args, **kwargs)\n",
    "        except ZeroDivisionError:\n",
    "            print('Делить на 0 нельзя!')\n",
    "            return None\n",
    "        except TypeError as e:\n",
    "            print(f'Неправильные данные: {e}')\n",
    "            return None\n",
    "        return res\n",
    "    return wrapper\n",
    "\n",
    "@div_decorator\n",
    "def div_nums(a, b):\n",
    "    res = a / b\n",
    "    return res\n",
    "\n",
    "@div_decorator\n",
    "def operations(a, b):\n",
    "    c = a + b\n",
    "    print(c)\n",
    "    res = a / b\n",
    "    return res\n",
    "\n",
    "\n",
    "\n",
    "def div_nums(a, b):\n",
    "    try:\n",
    "        res = a / b\n",
    "    except ZeroDivisionError:\n",
    "            print('Делить на 0 нельзя!')\n",
    "    except TypeError as e:\n",
    "        print(f'Неправильные данные: {e}')\n",
    "    else:\n",
    "        return res\n",
    "\n",
    "def operations(a, b):\n",
    "    c = a + b\n",
    "    print(c)\n",
    "    try:\n",
    "        res = a / b\n",
    "    except ZeroDivisionError:\n",
    "            print('Делить на 0 нельзя!')\n",
    "    except TypeError as e:\n",
    "        print(f'Неправильные данные: {e}')\n",
    "    else:\n",
    "        return res\n",
    "\n"
   ]
  },
  {
   "cell_type": "code",
   "execution_count": 70,
   "id": "dbaa8fb1-cc6b-42c9-8850-3566ee86800f",
   "metadata": {},
   "outputs": [
    {
     "name": "stdout",
     "output_type": "stream",
     "text": [
      "Делить на 0 нельзя!\n",
      "None\n"
     ]
    }
   ],
   "source": [
    "print(div_nums(10, 0))"
   ]
  }
 ],
 "metadata": {
  "kernelspec": {
   "display_name": "Python 3 (ipykernel)",
   "language": "python",
   "name": "python3"
  },
  "language_info": {
   "codemirror_mode": {
    "name": "ipython",
    "version": 3
   },
   "file_extension": ".py",
   "mimetype": "text/x-python",
   "name": "python",
   "nbconvert_exporter": "python",
   "pygments_lexer": "ipython3",
   "version": "3.11.9"
  }
 },
 "nbformat": 4,
 "nbformat_minor": 5
}
